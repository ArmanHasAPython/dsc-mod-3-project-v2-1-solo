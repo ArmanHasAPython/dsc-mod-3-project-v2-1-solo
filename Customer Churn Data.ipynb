{
 "cells": [
  {
   "cell_type": "markdown",
   "metadata": {},
   "source": [
    "# Business Understanding"
   ]
  },
  {
   "cell_type": "markdown",
   "metadata": {},
   "source": [
    "Syriatel is the leading mobile telecommunications company based in Damascus, Syria. Their vision is that, by focusing solely on customer satisfaction and social responsibility they are able to present products and services of a high standard. \n",
    "\n",
    "The goal is to continue to drive the excellent standards of the company by predicting whether a customer will churn from doing business with SyriaTel. \n",
    "\n",
    "This will be helped by figuring out identifying the customer likely to churn and negotiate better conditions for them to stay on with the network provider through conversational means.\n",
    "\n",
    "Targeting ALL customers, likely and not-likely to churn will be costly in revenue to the company and therefore it is more economically beneficial to apply the retention measures to those likely to churn only."
   ]
  },
  {
   "cell_type": "markdown",
   "metadata": {},
   "source": [
    "# Business Questions\n",
    "\n",
    "1 - \n",
    "2 - \n",
    "3 - "
   ]
  },
  {
   "cell_type": "markdown",
   "metadata": {},
   "source": [
    "# Data Understanding"
   ]
  },
  {
   "cell_type": "code",
   "execution_count": 1,
   "metadata": {
    "scrolled": true
   },
   "outputs": [],
   "source": [
    "#Import the libraries\n",
    "import pandas as pd\n",
    "import numpy as np\n",
    "import matplotlib.pyplot as plt\n",
    "import seaborn as sns\n",
    "%matplotlib inline\n",
    "\n",
    "#For Train Test Split\n",
    "from sklearn.metrics import roc_auc_score \n",
    "from sklearn.metrics import accuracy_score\n",
    "from sklearn.metrics import precision_score\n",
    "from sklearn.metrics import recall_score \n",
    "from sklearn.metrics import f1_score\n",
    "\n",
    "from sklearn.linear_model import LogisticRegression\n",
    "from sklearn.metrics import mean_squared_error as mse\n",
    "from sklearn.metrics import mean_absolute_error as mae\n",
    "from sklearn.preprocessing import StandardScaler\n",
    "from sklearn.model_selection import cross_validate\n",
    "from sklearn.model_selection import train_test_split\n",
    "\n",
    "\n",
    "#DecisionTrees\n",
    "from sklearn.tree import DecisionTreeClassifier\n",
    "from sklearn.tree import export_graphviz\n",
    "from sklearn.preprocessing import OneHotEncoder\n",
    "from IPython.display import Image\n",
    "from sklearn.tree import export_graphviz\n",
    "from pydotplus import graph_from_dot_data\n",
    "\n",
    "#Random Forest Classifier\n",
    "from sklearn.ensemble import RandomForestClassifier\n",
    "\n",
    "#Gaussian Naive Bayes\n",
    "from sklearn.naive_bayes import GaussianNB "
   ]
  },
  {
   "cell_type": "code",
   "execution_count": 2,
   "metadata": {},
   "outputs": [],
   "source": [
    "df = pd.read_csv('data/churn.csv')"
   ]
  },
  {
   "cell_type": "code",
   "execution_count": 3,
   "metadata": {},
   "outputs": [
    {
     "data": {
      "text/html": [
       "<div>\n",
       "<style scoped>\n",
       "    .dataframe tbody tr th:only-of-type {\n",
       "        vertical-align: middle;\n",
       "    }\n",
       "\n",
       "    .dataframe tbody tr th {\n",
       "        vertical-align: top;\n",
       "    }\n",
       "\n",
       "    .dataframe thead th {\n",
       "        text-align: right;\n",
       "    }\n",
       "</style>\n",
       "<table border=\"1\" class=\"dataframe\">\n",
       "  <thead>\n",
       "    <tr style=\"text-align: right;\">\n",
       "      <th></th>\n",
       "      <th>state</th>\n",
       "      <th>account length</th>\n",
       "      <th>area code</th>\n",
       "      <th>phone number</th>\n",
       "      <th>international plan</th>\n",
       "      <th>voice mail plan</th>\n",
       "      <th>number vmail messages</th>\n",
       "      <th>total day minutes</th>\n",
       "      <th>total day calls</th>\n",
       "      <th>total day charge</th>\n",
       "      <th>...</th>\n",
       "      <th>total eve calls</th>\n",
       "      <th>total eve charge</th>\n",
       "      <th>total night minutes</th>\n",
       "      <th>total night calls</th>\n",
       "      <th>total night charge</th>\n",
       "      <th>total intl minutes</th>\n",
       "      <th>total intl calls</th>\n",
       "      <th>total intl charge</th>\n",
       "      <th>customer service calls</th>\n",
       "      <th>churn</th>\n",
       "    </tr>\n",
       "  </thead>\n",
       "  <tbody>\n",
       "    <tr>\n",
       "      <th>0</th>\n",
       "      <td>KS</td>\n",
       "      <td>128</td>\n",
       "      <td>415</td>\n",
       "      <td>382-4657</td>\n",
       "      <td>no</td>\n",
       "      <td>yes</td>\n",
       "      <td>25</td>\n",
       "      <td>265.1</td>\n",
       "      <td>110</td>\n",
       "      <td>45.07</td>\n",
       "      <td>...</td>\n",
       "      <td>99</td>\n",
       "      <td>16.78</td>\n",
       "      <td>244.7</td>\n",
       "      <td>91</td>\n",
       "      <td>11.01</td>\n",
       "      <td>10.0</td>\n",
       "      <td>3</td>\n",
       "      <td>2.70</td>\n",
       "      <td>1</td>\n",
       "      <td>False</td>\n",
       "    </tr>\n",
       "    <tr>\n",
       "      <th>1</th>\n",
       "      <td>OH</td>\n",
       "      <td>107</td>\n",
       "      <td>415</td>\n",
       "      <td>371-7191</td>\n",
       "      <td>no</td>\n",
       "      <td>yes</td>\n",
       "      <td>26</td>\n",
       "      <td>161.6</td>\n",
       "      <td>123</td>\n",
       "      <td>27.47</td>\n",
       "      <td>...</td>\n",
       "      <td>103</td>\n",
       "      <td>16.62</td>\n",
       "      <td>254.4</td>\n",
       "      <td>103</td>\n",
       "      <td>11.45</td>\n",
       "      <td>13.7</td>\n",
       "      <td>3</td>\n",
       "      <td>3.70</td>\n",
       "      <td>1</td>\n",
       "      <td>False</td>\n",
       "    </tr>\n",
       "    <tr>\n",
       "      <th>2</th>\n",
       "      <td>NJ</td>\n",
       "      <td>137</td>\n",
       "      <td>415</td>\n",
       "      <td>358-1921</td>\n",
       "      <td>no</td>\n",
       "      <td>no</td>\n",
       "      <td>0</td>\n",
       "      <td>243.4</td>\n",
       "      <td>114</td>\n",
       "      <td>41.38</td>\n",
       "      <td>...</td>\n",
       "      <td>110</td>\n",
       "      <td>10.30</td>\n",
       "      <td>162.6</td>\n",
       "      <td>104</td>\n",
       "      <td>7.32</td>\n",
       "      <td>12.2</td>\n",
       "      <td>5</td>\n",
       "      <td>3.29</td>\n",
       "      <td>0</td>\n",
       "      <td>False</td>\n",
       "    </tr>\n",
       "    <tr>\n",
       "      <th>3</th>\n",
       "      <td>OH</td>\n",
       "      <td>84</td>\n",
       "      <td>408</td>\n",
       "      <td>375-9999</td>\n",
       "      <td>yes</td>\n",
       "      <td>no</td>\n",
       "      <td>0</td>\n",
       "      <td>299.4</td>\n",
       "      <td>71</td>\n",
       "      <td>50.90</td>\n",
       "      <td>...</td>\n",
       "      <td>88</td>\n",
       "      <td>5.26</td>\n",
       "      <td>196.9</td>\n",
       "      <td>89</td>\n",
       "      <td>8.86</td>\n",
       "      <td>6.6</td>\n",
       "      <td>7</td>\n",
       "      <td>1.78</td>\n",
       "      <td>2</td>\n",
       "      <td>False</td>\n",
       "    </tr>\n",
       "    <tr>\n",
       "      <th>4</th>\n",
       "      <td>OK</td>\n",
       "      <td>75</td>\n",
       "      <td>415</td>\n",
       "      <td>330-6626</td>\n",
       "      <td>yes</td>\n",
       "      <td>no</td>\n",
       "      <td>0</td>\n",
       "      <td>166.7</td>\n",
       "      <td>113</td>\n",
       "      <td>28.34</td>\n",
       "      <td>...</td>\n",
       "      <td>122</td>\n",
       "      <td>12.61</td>\n",
       "      <td>186.9</td>\n",
       "      <td>121</td>\n",
       "      <td>8.41</td>\n",
       "      <td>10.1</td>\n",
       "      <td>3</td>\n",
       "      <td>2.73</td>\n",
       "      <td>3</td>\n",
       "      <td>False</td>\n",
       "    </tr>\n",
       "  </tbody>\n",
       "</table>\n",
       "<p>5 rows × 21 columns</p>\n",
       "</div>"
      ],
      "text/plain": [
       "  state  account length  area code phone number international plan  \\\n",
       "0    KS             128        415     382-4657                 no   \n",
       "1    OH             107        415     371-7191                 no   \n",
       "2    NJ             137        415     358-1921                 no   \n",
       "3    OH              84        408     375-9999                yes   \n",
       "4    OK              75        415     330-6626                yes   \n",
       "\n",
       "  voice mail plan  number vmail messages  total day minutes  total day calls  \\\n",
       "0             yes                     25              265.1              110   \n",
       "1             yes                     26              161.6              123   \n",
       "2              no                      0              243.4              114   \n",
       "3              no                      0              299.4               71   \n",
       "4              no                      0              166.7              113   \n",
       "\n",
       "   total day charge  ...    total eve calls  total eve charge  \\\n",
       "0             45.07  ...                 99             16.78   \n",
       "1             27.47  ...                103             16.62   \n",
       "2             41.38  ...                110             10.30   \n",
       "3             50.90  ...                 88              5.26   \n",
       "4             28.34  ...                122             12.61   \n",
       "\n",
       "   total night minutes  total night calls  total night charge  \\\n",
       "0                244.7                 91               11.01   \n",
       "1                254.4                103               11.45   \n",
       "2                162.6                104                7.32   \n",
       "3                196.9                 89                8.86   \n",
       "4                186.9                121                8.41   \n",
       "\n",
       "   total intl minutes  total intl calls  total intl charge  \\\n",
       "0                10.0                 3               2.70   \n",
       "1                13.7                 3               3.70   \n",
       "2                12.2                 5               3.29   \n",
       "3                 6.6                 7               1.78   \n",
       "4                10.1                 3               2.73   \n",
       "\n",
       "   customer service calls  churn  \n",
       "0                       1  False  \n",
       "1                       1  False  \n",
       "2                       0  False  \n",
       "3                       2  False  \n",
       "4                       3  False  \n",
       "\n",
       "[5 rows x 21 columns]"
      ]
     },
     "execution_count": 3,
     "metadata": {},
     "output_type": "execute_result"
    }
   ],
   "source": [
    "df.head()"
   ]
  },
  {
   "cell_type": "code",
   "execution_count": 4,
   "metadata": {},
   "outputs": [
    {
     "name": "stdout",
     "output_type": "stream",
     "text": [
      "state\n",
      "account length\n",
      "area code\n",
      "phone number\n",
      "international plan\n",
      "voice mail plan\n",
      "number vmail messages\n",
      "total day minutes\n",
      "total day calls\n",
      "total day charge\n",
      "total eve minutes\n",
      "total eve calls\n",
      "total eve charge\n",
      "total night minutes\n",
      "total night calls\n",
      "total night charge\n",
      "total intl minutes\n",
      "total intl calls\n",
      "total intl charge\n",
      "customer service calls\n",
      "churn\n"
     ]
    }
   ],
   "source": [
    "#Identifying the columns which will be useful to find which ones to drop later\n",
    "\n",
    "for col in df.columns:\n",
    "    print (col)"
   ]
  },
  {
   "cell_type": "code",
   "execution_count": 5,
   "metadata": {},
   "outputs": [
    {
     "data": {
      "text/plain": [
       "(3333, 21)"
      ]
     },
     "execution_count": 5,
     "metadata": {},
     "output_type": "execute_result"
    }
   ],
   "source": [
    "#Identify the total number of rows and columns\n",
    "\n",
    "df.shape"
   ]
  },
  {
   "cell_type": "code",
   "execution_count": 6,
   "metadata": {},
   "outputs": [
    {
     "name": "stdout",
     "output_type": "stream",
     "text": [
      "<class 'pandas.core.frame.DataFrame'>\n",
      "RangeIndex: 3333 entries, 0 to 3332\n",
      "Data columns (total 21 columns):\n",
      "state                     3333 non-null object\n",
      "account length            3333 non-null int64\n",
      "area code                 3333 non-null int64\n",
      "phone number              3333 non-null object\n",
      "international plan        3333 non-null object\n",
      "voice mail plan           3333 non-null object\n",
      "number vmail messages     3333 non-null int64\n",
      "total day minutes         3333 non-null float64\n",
      "total day calls           3333 non-null int64\n",
      "total day charge          3333 non-null float64\n",
      "total eve minutes         3333 non-null float64\n",
      "total eve calls           3333 non-null int64\n",
      "total eve charge          3333 non-null float64\n",
      "total night minutes       3333 non-null float64\n",
      "total night calls         3333 non-null int64\n",
      "total night charge        3333 non-null float64\n",
      "total intl minutes        3333 non-null float64\n",
      "total intl calls          3333 non-null int64\n",
      "total intl charge         3333 non-null float64\n",
      "customer service calls    3333 non-null int64\n",
      "churn                     3333 non-null bool\n",
      "dtypes: bool(1), float64(8), int64(8), object(4)\n",
      "memory usage: 524.1+ KB\n"
     ]
    }
   ],
   "source": [
    "#Find the types of data in the set\n",
    "\n",
    "df.info()"
   ]
  },
  {
   "cell_type": "code",
   "execution_count": 7,
   "metadata": {},
   "outputs": [
    {
     "data": {
      "text/plain": [
       "state                     0\n",
       "account length            0\n",
       "area code                 0\n",
       "phone number              0\n",
       "international plan        0\n",
       "voice mail plan           0\n",
       "number vmail messages     0\n",
       "total day minutes         0\n",
       "total day calls           0\n",
       "total day charge          0\n",
       "total eve minutes         0\n",
       "total eve calls           0\n",
       "total eve charge          0\n",
       "total night minutes       0\n",
       "total night calls         0\n",
       "total night charge        0\n",
       "total intl minutes        0\n",
       "total intl calls          0\n",
       "total intl charge         0\n",
       "customer service calls    0\n",
       "churn                     0\n",
       "dtype: int64"
      ]
     },
     "execution_count": 7,
     "metadata": {},
     "output_type": "execute_result"
    }
   ],
   "source": [
    "#Investigate the dataset for missing values\n",
    "\n",
    "df.isna().sum()"
   ]
  },
  {
   "cell_type": "code",
   "execution_count": 8,
   "metadata": {},
   "outputs": [
    {
     "data": {
      "text/plain": [
       "state                      object\n",
       "account length              int64\n",
       "area code                   int64\n",
       "phone number               object\n",
       "international plan         object\n",
       "voice mail plan            object\n",
       "number vmail messages       int64\n",
       "total day minutes         float64\n",
       "total day calls             int64\n",
       "total day charge          float64\n",
       "total eve minutes         float64\n",
       "total eve calls             int64\n",
       "total eve charge          float64\n",
       "total night minutes       float64\n",
       "total night calls           int64\n",
       "total night charge        float64\n",
       "total intl minutes        float64\n",
       "total intl calls            int64\n",
       "total intl charge         float64\n",
       "customer service calls      int64\n",
       "churn                        bool\n",
       "dtype: object"
      ]
     },
     "execution_count": 8,
     "metadata": {},
     "output_type": "execute_result"
    }
   ],
   "source": [
    "df.dtypes"
   ]
  },
  {
   "cell_type": "code",
   "execution_count": 9,
   "metadata": {},
   "outputs": [],
   "source": [
    "#The state and customer number columns are unecessary so we will remove those ones\n",
    "\n",
    "df.drop(columns=['state', 'phone number'], inplace=True, axis=1)"
   ]
  },
  {
   "cell_type": "markdown",
   "metadata": {},
   "source": [
    "## Visualisations"
   ]
  },
  {
   "cell_type": "code",
   "execution_count": 10,
   "metadata": {},
   "outputs": [
    {
     "data": {
      "image/png": "[encoded data removed]",
      "text/plain": [
       "<Figure size 432x288 with 1 Axes>"
      ]
     },
     "metadata": {},
     "output_type": "display_data"
    },
    {
     "name": "stdout",
     "output_type": "stream",
     "text": [
      "False    2850\n",
      "True      483\n",
      "Name: churn, dtype: int64\n"
     ]
    }
   ],
   "source": [
    "#Produce a pie chart visualisation to establish the percentage of churners in the dataset\n",
    "\n",
    "sizes = df['churn'].value_counts(sort=True)\n",
    "\n",
    "colors = [\"red\", \"blue\"]\n",
    "labels = 'False', 'True'\n",
    "explode = (0,0.1)\n",
    "plt.pie(sizes, explode=explode, labels=labels, autopct='%1.1f%%', colors=colors, shadow=True, startangle=90)\n",
    "plt.title('Percentage of Churn in Customer Data')\n",
    "plt.show()\n",
    "\n",
    "print(sizes)"
   ]
  },
  {
   "cell_type": "markdown",
   "metadata": {},
   "source": [
    "Having seen the percentage of true churns in the dataset it would now be helpful to produce a heatmap and identify the useful variables "
   ]
  },
  {
   "cell_type": "code",
   "execution_count": 11,
   "metadata": {},
   "outputs": [
    {
     "name": "stdout",
     "output_type": "stream",
     "text": [
      "account length              int64\n",
      "area code                   int64\n",
      "international plan          int64\n",
      "voice mail plan             int64\n",
      "number vmail messages       int64\n",
      "total day minutes         float64\n",
      "total day calls             int64\n",
      "total day charge          float64\n",
      "total eve minutes         float64\n",
      "total eve calls             int64\n",
      "total eve charge          float64\n",
      "total night minutes       float64\n",
      "total night calls           int64\n",
      "total night charge        float64\n",
      "total intl minutes        float64\n",
      "total intl calls            int64\n",
      "total intl charge         float64\n",
      "customer service calls      int64\n",
      "churn                        bool\n",
      "dtype: object\n"
     ]
    }
   ],
   "source": [
    "#Convert the categorical data into numerical data\n",
    "#International plan and voice mail plan\n",
    "\n",
    "from sklearn import preprocessing\n",
    "label_encoder = preprocessing.LabelEncoder()\n",
    "\n",
    "df['international plan'] = label_encoder.fit_transform(df['international plan'])\n",
    "df['voice mail plan'] = label_encoder.fit_transform(df['voice mail plan'])\n",
    "\n",
    "\n",
    "print (df.dtypes)"
   ]
  },
  {
   "cell_type": "code",
   "execution_count": 12,
   "metadata": {},
   "outputs": [],
   "source": [
    "#Convert the bools of churn into integers\n",
    "\n",
    "df['churn'] = df['churn'].astype(int)"
   ]
  },
  {
   "cell_type": "code",
   "execution_count": 13,
   "metadata": {},
   "outputs": [
    {
     "data": {
      "text/plain": [
       "account length              int64\n",
       "area code                   int64\n",
       "international plan          int64\n",
       "voice mail plan             int64\n",
       "number vmail messages       int64\n",
       "total day minutes         float64\n",
       "total day calls             int64\n",
       "total day charge          float64\n",
       "total eve minutes         float64\n",
       "total eve calls             int64\n",
       "total eve charge          float64\n",
       "total night minutes       float64\n",
       "total night calls           int64\n",
       "total night charge        float64\n",
       "total intl minutes        float64\n",
       "total intl calls            int64\n",
       "total intl charge         float64\n",
       "customer service calls      int64\n",
       "churn                       int64\n",
       "dtype: object"
      ]
     },
     "execution_count": 13,
     "metadata": {},
     "output_type": "execute_result"
    }
   ],
   "source": [
    "#Check to see if the dtype of int has been converted\n",
    "\n",
    "df.dtypes"
   ]
  },
  {
   "cell_type": "markdown",
   "metadata": {},
   "source": [
    "# Baseline Model"
   ]
  },
  {
   "cell_type": "markdown",
   "metadata": {},
   "source": [
    "## Logistic Regression"
   ]
  },
  {
   "cell_type": "markdown",
   "metadata": {},
   "source": [
    "Now I will declare my variables. My target variable (churn) and my predictors are (X)"
   ]
  },
  {
   "cell_type": "code",
   "execution_count": 14,
   "metadata": {},
   "outputs": [
    {
     "data": {
      "text/html": [
       "<div>\n",
       "<style scoped>\n",
       "    .dataframe tbody tr th:only-of-type {\n",
       "        vertical-align: middle;\n",
       "    }\n",
       "\n",
       "    .dataframe tbody tr th {\n",
       "        vertical-align: top;\n",
       "    }\n",
       "\n",
       "    .dataframe thead th {\n",
       "        text-align: right;\n",
       "    }\n",
       "</style>\n",
       "<table border=\"1\" class=\"dataframe\">\n",
       "  <thead>\n",
       "    <tr style=\"text-align: right;\">\n",
       "      <th></th>\n",
       "      <th>account length</th>\n",
       "      <th>area code</th>\n",
       "      <th>international plan</th>\n",
       "      <th>voice mail plan</th>\n",
       "      <th>number vmail messages</th>\n",
       "      <th>total day minutes</th>\n",
       "      <th>total day calls</th>\n",
       "      <th>total day charge</th>\n",
       "      <th>total eve minutes</th>\n",
       "      <th>total eve calls</th>\n",
       "      <th>total eve charge</th>\n",
       "      <th>total night minutes</th>\n",
       "      <th>total night calls</th>\n",
       "      <th>total night charge</th>\n",
       "      <th>total intl minutes</th>\n",
       "      <th>total intl calls</th>\n",
       "      <th>total intl charge</th>\n",
       "      <th>customer service calls</th>\n",
       "    </tr>\n",
       "  </thead>\n",
       "  <tbody>\n",
       "    <tr>\n",
       "      <th>0</th>\n",
       "      <td>128</td>\n",
       "      <td>415</td>\n",
       "      <td>0</td>\n",
       "      <td>1</td>\n",
       "      <td>25</td>\n",
       "      <td>265.1</td>\n",
       "      <td>110</td>\n",
       "      <td>45.07</td>\n",
       "      <td>197.4</td>\n",
       "      <td>99</td>\n",
       "      <td>16.78</td>\n",
       "      <td>244.7</td>\n",
       "      <td>91</td>\n",
       "      <td>11.01</td>\n",
       "      <td>10.0</td>\n",
       "      <td>3</td>\n",
       "      <td>2.70</td>\n",
       "      <td>1</td>\n",
       "    </tr>\n",
       "    <tr>\n",
       "      <th>1</th>\n",
       "      <td>107</td>\n",
       "      <td>415</td>\n",
       "      <td>0</td>\n",
       "      <td>1</td>\n",
       "      <td>26</td>\n",
       "      <td>161.6</td>\n",
       "      <td>123</td>\n",
       "      <td>27.47</td>\n",
       "      <td>195.5</td>\n",
       "      <td>103</td>\n",
       "      <td>16.62</td>\n",
       "      <td>254.4</td>\n",
       "      <td>103</td>\n",
       "      <td>11.45</td>\n",
       "      <td>13.7</td>\n",
       "      <td>3</td>\n",
       "      <td>3.70</td>\n",
       "      <td>1</td>\n",
       "    </tr>\n",
       "    <tr>\n",
       "      <th>2</th>\n",
       "      <td>137</td>\n",
       "      <td>415</td>\n",
       "      <td>0</td>\n",
       "      <td>0</td>\n",
       "      <td>0</td>\n",
       "      <td>243.4</td>\n",
       "      <td>114</td>\n",
       "      <td>41.38</td>\n",
       "      <td>121.2</td>\n",
       "      <td>110</td>\n",
       "      <td>10.30</td>\n",
       "      <td>162.6</td>\n",
       "      <td>104</td>\n",
       "      <td>7.32</td>\n",
       "      <td>12.2</td>\n",
       "      <td>5</td>\n",
       "      <td>3.29</td>\n",
       "      <td>0</td>\n",
       "    </tr>\n",
       "    <tr>\n",
       "      <th>3</th>\n",
       "      <td>84</td>\n",
       "      <td>408</td>\n",
       "      <td>1</td>\n",
       "      <td>0</td>\n",
       "      <td>0</td>\n",
       "      <td>299.4</td>\n",
       "      <td>71</td>\n",
       "      <td>50.90</td>\n",
       "      <td>61.9</td>\n",
       "      <td>88</td>\n",
       "      <td>5.26</td>\n",
       "      <td>196.9</td>\n",
       "      <td>89</td>\n",
       "      <td>8.86</td>\n",
       "      <td>6.6</td>\n",
       "      <td>7</td>\n",
       "      <td>1.78</td>\n",
       "      <td>2</td>\n",
       "    </tr>\n",
       "    <tr>\n",
       "      <th>4</th>\n",
       "      <td>75</td>\n",
       "      <td>415</td>\n",
       "      <td>1</td>\n",
       "      <td>0</td>\n",
       "      <td>0</td>\n",
       "      <td>166.7</td>\n",
       "      <td>113</td>\n",
       "      <td>28.34</td>\n",
       "      <td>148.3</td>\n",
       "      <td>122</td>\n",
       "      <td>12.61</td>\n",
       "      <td>186.9</td>\n",
       "      <td>121</td>\n",
       "      <td>8.41</td>\n",
       "      <td>10.1</td>\n",
       "      <td>3</td>\n",
       "      <td>2.73</td>\n",
       "      <td>3</td>\n",
       "    </tr>\n",
       "  </tbody>\n",
       "</table>\n",
       "</div>"
      ],
      "text/plain": [
       "   account length  area code  international plan  voice mail plan  \\\n",
       "0             128        415                   0                1   \n",
       "1             107        415                   0                1   \n",
       "2             137        415                   0                0   \n",
       "3              84        408                   1                0   \n",
       "4              75        415                   1                0   \n",
       "\n",
       "   number vmail messages  total day minutes  total day calls  \\\n",
       "0                     25              265.1              110   \n",
       "1                     26              161.6              123   \n",
       "2                      0              243.4              114   \n",
       "3                      0              299.4               71   \n",
       "4                      0              166.7              113   \n",
       "\n",
       "   total day charge  total eve minutes  total eve calls  total eve charge  \\\n",
       "0             45.07              197.4               99             16.78   \n",
       "1             27.47              195.5              103             16.62   \n",
       "2             41.38              121.2              110             10.30   \n",
       "3             50.90               61.9               88              5.26   \n",
       "4             28.34              148.3              122             12.61   \n",
       "\n",
       "   total night minutes  total night calls  total night charge  \\\n",
       "0                244.7                 91               11.01   \n",
       "1                254.4                103               11.45   \n",
       "2                162.6                104                7.32   \n",
       "3                196.9                 89                8.86   \n",
       "4                186.9                121                8.41   \n",
       "\n",
       "   total intl minutes  total intl calls  total intl charge  \\\n",
       "0                10.0                 3               2.70   \n",
       "1                13.7                 3               3.70   \n",
       "2                12.2                 5               3.29   \n",
       "3                 6.6                 7               1.78   \n",
       "4                10.1                 3               2.73   \n",
       "\n",
       "   customer service calls  \n",
       "0                       1  \n",
       "1                       1  \n",
       "2                       0  \n",
       "3                       2  \n",
       "4                       3  "
      ]
     },
     "execution_count": 14,
     "metadata": {},
     "output_type": "execute_result"
    }
   ],
   "source": [
    "X = df.drop('churn', axis=1)\n",
    "y = df['churn']\n",
    "X.head()"
   ]
  },
  {
   "cell_type": "code",
   "execution_count": 15,
   "metadata": {},
   "outputs": [],
   "source": [
    "#Split the data into train and test datasets\n",
    "\n",
    "X_train, X_test, y_train, y_test = train_test_split(X, y, test_size=0.2, random_state=44)"
   ]
  },
  {
   "cell_type": "code",
   "execution_count": 16,
   "metadata": {},
   "outputs": [],
   "source": [
    "#Splitting the data into train and validation datasets\n",
    "\n",
    "X_train_v, X_val, y_train_v, y_val = train_test_split(X_train, y_train, test_size=0.2, random_state=52)"
   ]
  },
  {
   "cell_type": "code",
   "execution_count": 17,
   "metadata": {},
   "outputs": [],
   "source": [
    "#Scale the 3 datasets \n",
    "\n",
    "ss = StandardScaler()\n",
    "\n",
    "ss.fit(X_train_v) #Fit scaler only on training data\n",
    "\n",
    "X_train_v = ss.transform(X_train_v)\n",
    "X_val = ss.transform(X_val)\n",
    "\n",
    "X_test = ss.transform(X_test)"
   ]
  },
  {
   "cell_type": "code",
   "execution_count": 18,
   "metadata": {
    "scrolled": true
   },
   "outputs": [
    {
     "data": {
      "text/plain": [
       "LogisticRegression(C=1000000000000.0, class_weight=None, dual=False,\n",
       "                   fit_intercept=True, intercept_scaling=1, l1_ratio=None,\n",
       "                   max_iter=100, multi_class='auto', n_jobs=None, penalty='l2',\n",
       "                   random_state=42, solver='liblinear', tol=0.0001, verbose=0,\n",
       "                   warm_start=False)"
      ]
     },
     "execution_count": 18,
     "metadata": {},
     "output_type": "execute_result"
    }
   ],
   "source": [
    "logreg = LogisticRegression(fit_intercept=True, C=1e12, solver='liblinear', random_state=42)\n",
    "model_log = logreg.fit(X_train_v, y_train_v)\n",
    "model_log"
   ]
  },
  {
   "cell_type": "code",
   "execution_count": 19,
   "metadata": {},
   "outputs": [],
   "source": [
    "y_train_pred = model_log.predict_proba(X_train_v)[:,1]"
   ]
  },
  {
   "cell_type": "code",
   "execution_count": 20,
   "metadata": {},
   "outputs": [
    {
     "data": {
      "text/plain": [
       "0.8574108818011257"
      ]
     },
     "execution_count": 20,
     "metadata": {},
     "output_type": "execute_result"
    }
   ],
   "source": [
    "model_log.score(X_train_v,y_train_v)"
   ]
  },
  {
   "cell_type": "code",
   "execution_count": 21,
   "metadata": {},
   "outputs": [
    {
     "data": {
      "text/plain": [
       "0.8782771535580525"
      ]
     },
     "execution_count": 21,
     "metadata": {},
     "output_type": "execute_result"
    }
   ],
   "source": [
    "#Creating the score for the validation dataset\n",
    "\n",
    "model_log.score(X_val, y_val)"
   ]
  },
  {
   "cell_type": "markdown",
   "metadata": {},
   "source": [
    "### Measuring the accuracy and ROC_AUC"
   ]
  },
  {
   "cell_type": "markdown",
   "metadata": {},
   "source": [
    "Train"
   ]
  },
  {
   "cell_type": "code",
   "execution_count": 22,
   "metadata": {},
   "outputs": [
    {
     "name": "stdout",
     "output_type": "stream",
     "text": [
      "ROC_AUC of model = 0.821474430833826\n"
     ]
    }
   ],
   "source": [
    "# print(\"Accuracy of model =\", accuracy_score(y_train_v, y_train_pred))  #If I want to do this I will have to convert the probabilities (y_train_pred) into actual outcomes of 0s and 1s\n",
    "\n",
    "print(\"ROC_AUC of model =\", roc_auc_score(y_train_v, y_train_pred))"
   ]
  },
  {
   "cell_type": "markdown",
   "metadata": {},
   "source": [
    "Validation"
   ]
  },
  {
   "cell_type": "code",
   "execution_count": 23,
   "metadata": {},
   "outputs": [
    {
     "name": "stdout",
     "output_type": "stream",
     "text": [
      "ROC_AUC of model = 0.6566003616636528\n"
     ]
    }
   ],
   "source": [
    "y_val_pred = model_log.predict(X_val)\n",
    "\n",
    "# print(\"Accuracy of model =\", accuracy_score(y_val, y_val_pred))\n",
    "\n",
    "print(\"ROC_AUC of model =\", roc_auc_score(y_val, y_val_pred))"
   ]
  },
  {
   "cell_type": "markdown",
   "metadata": {},
   "source": [
    "# Decision Tree"
   ]
  },
  {
   "cell_type": "code",
   "execution_count": 24,
   "metadata": {},
   "outputs": [
    {
     "data": {
      "text/plain": [
       "DecisionTreeClassifier(ccp_alpha=0.0, class_weight='balanced', criterion='gini',\n",
       "                       max_depth=2, max_features=None, max_leaf_nodes=None,\n",
       "                       min_impurity_decrease=0.0, min_impurity_split=None,\n",
       "                       min_samples_leaf=10, min_samples_split=2,\n",
       "                       min_weight_fraction_leaf=0.0, presort='deprecated',\n",
       "                       random_state=100, splitter='best')"
      ]
     },
     "execution_count": 24,
     "metadata": {},
     "output_type": "execute_result"
    }
   ],
   "source": [
    "model_dt = DecisionTreeClassifier(criterion='gini',max_depth=2, min_samples_leaf=10, \n",
    "                               random_state=100, class_weight=\"balanced\")\n",
    "\n",
    "model_dt.fit(X_train_v, y_train_v)"
   ]
  },
  {
   "cell_type": "markdown",
   "metadata": {},
   "source": [
    "Train Score"
   ]
  },
  {
   "cell_type": "code",
   "execution_count": 25,
   "metadata": {
    "scrolled": true
   },
   "outputs": [
    {
     "name": "stdout",
     "output_type": "stream",
     "text": [
      "ROC_AUC of model = 0.7944190802301803\n"
     ]
    }
   ],
   "source": [
    "y_train_pred = model_dt.predict_proba(X_train_v)[:,1]\n",
    "\n",
    "print(\"ROC_AUC of model =\", roc_auc_score(y_train_v, y_train_pred))"
   ]
  },
  {
   "cell_type": "markdown",
   "metadata": {},
   "source": [
    "Validation Score"
   ]
  },
  {
   "cell_type": "code",
   "execution_count": 26,
   "metadata": {},
   "outputs": [
    {
     "name": "stdout",
     "output_type": "stream",
     "text": [
      "ROC_AUC of model = 0.73645847823063\n"
     ]
    }
   ],
   "source": [
    "y_val_pred = model_dt.predict(X_val)\n",
    "\n",
    "print(\"ROC_AUC of model =\", roc_auc_score(y_val, y_val_pred))"
   ]
  },
  {
   "cell_type": "markdown",
   "metadata": {},
   "source": [
    "### Decision Tree Tuning"
   ]
  },
  {
   "cell_type": "code",
   "execution_count": 28,
   "metadata": {},
   "outputs": [
    {
     "data": {
      "text/plain": [
       "GridSearchCV(cv=StratifiedKFold(n_splits=3, random_state=110, shuffle=True),\n",
       "             error_score=nan,\n",
       "             estimator=DecisionTreeClassifier(ccp_alpha=0.0, class_weight=None,\n",
       "                                              criterion='gini', max_depth=None,\n",
       "                                              max_features=None,\n",
       "                                              max_leaf_nodes=None,\n",
       "                                              min_impurity_decrease=0.0,\n",
       "                                              min_impurity_split=None,\n",
       "                                              min_samples_leaf=1,\n",
       "                                              min_samples_split=2,\n",
       "                                              min_weight_fraction_leaf=0.0,\n",
       "                                              presort='deprecated',\n",
       "                                              random_state=48,\n",
       "                                              splitter='best'),\n",
       "             iid='deprecated', n_jobs=None,\n",
       "             param_grid={'max_depth': range(1, 10),\n",
       "                         'min_samples_leaf': [5, 10, 15, 20]},\n",
       "             pre_dispatch='2*n_jobs', refit=True, return_train_score=False,\n",
       "             scoring='roc_auc', verbose=0)"
      ]
     },
     "execution_count": 28,
     "metadata": {},
     "output_type": "execute_result"
    }
   ],
   "source": [
    "from sklearn.model_selection import GridSearchCV\n",
    "from sklearn.model_selection import StratifiedKFold\n",
    "\n",
    "skf = StratifiedKFold(n_splits=3, random_state=110, shuffle=True)\n",
    "ParamGrid = {'max_depth': range(1,10), 'min_samples_leaf': [5,10,15,20]}\n",
    "optimalmodel_dt = GridSearchCV(DecisionTreeClassifier(random_state=48), ParamGrid, cv=skf, scoring=\"roc_auc\")\n",
    "optimalmodel_dt.fit(X_train, y_train) #Here we will use the entire train data set as we are doing cross validation"
   ]
  },
  {
   "cell_type": "code",
   "execution_count": 31,
   "metadata": {},
   "outputs": [
    {
     "name": "stdout",
     "output_type": "stream",
     "text": [
      "Values of the optimised hyperparameters\n",
      " for the best model found:\n",
      " {'max_depth': 6, 'min_samples_leaf': 20}\n"
     ]
    },
    {
     "data": {
      "text/plain": [
       "0.9015324887697466"
      ]
     },
     "execution_count": 31,
     "metadata": {},
     "output_type": "execute_result"
    }
   ],
   "source": [
    "print('Values of the optimised hyperparameters\\n for the best model found:\\n',optimalmodel_dt.best_params_)\n",
    "optimalmodel_dt.best_score_"
   ]
  },
  {
   "cell_type": "code",
   "execution_count": 33,
   "metadata": {
    "scrolled": false
   },
   "outputs": [
    {
     "data": {
      "text/html": [
       "<div>\n",
       "<style scoped>\n",
       "    .dataframe tbody tr th:only-of-type {\n",
       "        vertical-align: middle;\n",
       "    }\n",
       "\n",
       "    .dataframe tbody tr th {\n",
       "        vertical-align: top;\n",
       "    }\n",
       "\n",
       "    .dataframe thead th {\n",
       "        text-align: right;\n",
       "    }\n",
       "</style>\n",
       "<table border=\"1\" class=\"dataframe\">\n",
       "  <thead>\n",
       "    <tr style=\"text-align: right;\">\n",
       "      <th></th>\n",
       "      <th>mean_fit_time</th>\n",
       "      <th>std_fit_time</th>\n",
       "      <th>mean_score_time</th>\n",
       "      <th>std_score_time</th>\n",
       "      <th>param_max_depth</th>\n",
       "      <th>param_min_samples_leaf</th>\n",
       "      <th>params</th>\n",
       "      <th>split0_test_score</th>\n",
       "      <th>split1_test_score</th>\n",
       "      <th>split2_test_score</th>\n",
       "      <th>mean_test_score</th>\n",
       "      <th>std_test_score</th>\n",
       "      <th>rank_test_score</th>\n",
       "    </tr>\n",
       "  </thead>\n",
       "  <tbody>\n",
       "    <tr>\n",
       "      <th>0</th>\n",
       "      <td>0.005492</td>\n",
       "      <td>0.000686</td>\n",
       "      <td>0.004158</td>\n",
       "      <td>0.001392</td>\n",
       "      <td>1</td>\n",
       "      <td>5</td>\n",
       "      <td>{'max_depth': 1, 'min_samples_leaf': 5}</td>\n",
       "      <td>0.632508</td>\n",
       "      <td>0.623224</td>\n",
       "      <td>0.634204</td>\n",
       "      <td>0.629979</td>\n",
       "      <td>0.004826</td>\n",
       "      <td>33</td>\n",
       "    </tr>\n",
       "    <tr>\n",
       "      <th>1</th>\n",
       "      <td>0.004598</td>\n",
       "      <td>0.000306</td>\n",
       "      <td>0.002445</td>\n",
       "      <td>0.000133</td>\n",
       "      <td>1</td>\n",
       "      <td>10</td>\n",
       "      <td>{'max_depth': 1, 'min_samples_leaf': 10}</td>\n",
       "      <td>0.632508</td>\n",
       "      <td>0.623224</td>\n",
       "      <td>0.634204</td>\n",
       "      <td>0.629979</td>\n",
       "      <td>0.004826</td>\n",
       "      <td>33</td>\n",
       "    </tr>\n",
       "    <tr>\n",
       "      <th>2</th>\n",
       "      <td>0.006676</td>\n",
       "      <td>0.002060</td>\n",
       "      <td>0.003388</td>\n",
       "      <td>0.000968</td>\n",
       "      <td>1</td>\n",
       "      <td>15</td>\n",
       "      <td>{'max_depth': 1, 'min_samples_leaf': 15}</td>\n",
       "      <td>0.632508</td>\n",
       "      <td>0.623224</td>\n",
       "      <td>0.634204</td>\n",
       "      <td>0.629979</td>\n",
       "      <td>0.004826</td>\n",
       "      <td>33</td>\n",
       "    </tr>\n",
       "    <tr>\n",
       "      <th>3</th>\n",
       "      <td>0.006540</td>\n",
       "      <td>0.001036</td>\n",
       "      <td>0.003019</td>\n",
       "      <td>0.000917</td>\n",
       "      <td>1</td>\n",
       "      <td>20</td>\n",
       "      <td>{'max_depth': 1, 'min_samples_leaf': 20}</td>\n",
       "      <td>0.632508</td>\n",
       "      <td>0.623224</td>\n",
       "      <td>0.634204</td>\n",
       "      <td>0.629979</td>\n",
       "      <td>0.004826</td>\n",
       "      <td>33</td>\n",
       "    </tr>\n",
       "    <tr>\n",
       "      <th>4</th>\n",
       "      <td>0.006227</td>\n",
       "      <td>0.000862</td>\n",
       "      <td>0.002597</td>\n",
       "      <td>0.000472</td>\n",
       "      <td>2</td>\n",
       "      <td>5</td>\n",
       "      <td>{'max_depth': 2, 'min_samples_leaf': 5}</td>\n",
       "      <td>0.756184</td>\n",
       "      <td>0.744931</td>\n",
       "      <td>0.741321</td>\n",
       "      <td>0.747479</td>\n",
       "      <td>0.006330</td>\n",
       "      <td>29</td>\n",
       "    </tr>\n",
       "    <tr>\n",
       "      <th>5</th>\n",
       "      <td>0.005327</td>\n",
       "      <td>0.000060</td>\n",
       "      <td>0.002082</td>\n",
       "      <td>0.000070</td>\n",
       "      <td>2</td>\n",
       "      <td>10</td>\n",
       "      <td>{'max_depth': 2, 'min_samples_leaf': 10}</td>\n",
       "      <td>0.756184</td>\n",
       "      <td>0.744931</td>\n",
       "      <td>0.741321</td>\n",
       "      <td>0.747479</td>\n",
       "      <td>0.006330</td>\n",
       "      <td>29</td>\n",
       "    </tr>\n",
       "    <tr>\n",
       "      <th>6</th>\n",
       "      <td>0.005959</td>\n",
       "      <td>0.000371</td>\n",
       "      <td>0.002262</td>\n",
       "      <td>0.000044</td>\n",
       "      <td>2</td>\n",
       "      <td>15</td>\n",
       "      <td>{'max_depth': 2, 'min_samples_leaf': 15}</td>\n",
       "      <td>0.756184</td>\n",
       "      <td>0.744931</td>\n",
       "      <td>0.741321</td>\n",
       "      <td>0.747479</td>\n",
       "      <td>0.006330</td>\n",
       "      <td>29</td>\n",
       "    </tr>\n",
       "    <tr>\n",
       "      <th>7</th>\n",
       "      <td>0.005874</td>\n",
       "      <td>0.000465</td>\n",
       "      <td>0.002316</td>\n",
       "      <td>0.000053</td>\n",
       "      <td>2</td>\n",
       "      <td>20</td>\n",
       "      <td>{'max_depth': 2, 'min_samples_leaf': 20}</td>\n",
       "      <td>0.756184</td>\n",
       "      <td>0.744931</td>\n",
       "      <td>0.741321</td>\n",
       "      <td>0.747479</td>\n",
       "      <td>0.006330</td>\n",
       "      <td>29</td>\n",
       "    </tr>\n",
       "    <tr>\n",
       "      <th>8</th>\n",
       "      <td>0.006887</td>\n",
       "      <td>0.000191</td>\n",
       "      <td>0.002454</td>\n",
       "      <td>0.000278</td>\n",
       "      <td>3</td>\n",
       "      <td>5</td>\n",
       "      <td>{'max_depth': 3, 'min_samples_leaf': 5}</td>\n",
       "      <td>0.851778</td>\n",
       "      <td>0.822802</td>\n",
       "      <td>0.829969</td>\n",
       "      <td>0.834850</td>\n",
       "      <td>0.012323</td>\n",
       "      <td>27</td>\n",
       "    </tr>\n",
       "    <tr>\n",
       "      <th>9</th>\n",
       "      <td>0.006948</td>\n",
       "      <td>0.000170</td>\n",
       "      <td>0.002734</td>\n",
       "      <td>0.000804</td>\n",
       "      <td>3</td>\n",
       "      <td>10</td>\n",
       "      <td>{'max_depth': 3, 'min_samples_leaf': 10}</td>\n",
       "      <td>0.846478</td>\n",
       "      <td>0.816848</td>\n",
       "      <td>0.835768</td>\n",
       "      <td>0.833031</td>\n",
       "      <td>0.012250</td>\n",
       "      <td>28</td>\n",
       "    </tr>\n",
       "    <tr>\n",
       "      <th>10</th>\n",
       "      <td>0.007916</td>\n",
       "      <td>0.001800</td>\n",
       "      <td>0.002090</td>\n",
       "      <td>0.000048</td>\n",
       "      <td>3</td>\n",
       "      <td>15</td>\n",
       "      <td>{'max_depth': 3, 'min_samples_leaf': 15}</td>\n",
       "      <td>0.845643</td>\n",
       "      <td>0.820557</td>\n",
       "      <td>0.840332</td>\n",
       "      <td>0.835511</td>\n",
       "      <td>0.010794</td>\n",
       "      <td>26</td>\n",
       "    </tr>\n",
       "    <tr>\n",
       "      <th>11</th>\n",
       "      <td>0.006731</td>\n",
       "      <td>0.000104</td>\n",
       "      <td>0.002342</td>\n",
       "      <td>0.000102</td>\n",
       "      <td>3</td>\n",
       "      <td>20</td>\n",
       "      <td>{'max_depth': 3, 'min_samples_leaf': 20}</td>\n",
       "      <td>0.851778</td>\n",
       "      <td>0.821250</td>\n",
       "      <td>0.840332</td>\n",
       "      <td>0.837787</td>\n",
       "      <td>0.012593</td>\n",
       "      <td>25</td>\n",
       "    </tr>\n",
       "    <tr>\n",
       "      <th>12</th>\n",
       "      <td>0.008089</td>\n",
       "      <td>0.000067</td>\n",
       "      <td>0.002081</td>\n",
       "      <td>0.000032</td>\n",
       "      <td>4</td>\n",
       "      <td>5</td>\n",
       "      <td>{'max_depth': 4, 'min_samples_leaf': 5}</td>\n",
       "      <td>0.905153</td>\n",
       "      <td>0.840530</td>\n",
       "      <td>0.896724</td>\n",
       "      <td>0.880802</td>\n",
       "      <td>0.028684</td>\n",
       "      <td>19</td>\n",
       "    </tr>\n",
       "    <tr>\n",
       "      <th>13</th>\n",
       "      <td>0.009083</td>\n",
       "      <td>0.001215</td>\n",
       "      <td>0.002170</td>\n",
       "      <td>0.000079</td>\n",
       "      <td>4</td>\n",
       "      <td>10</td>\n",
       "      <td>{'max_depth': 4, 'min_samples_leaf': 10}</td>\n",
       "      <td>0.898399</td>\n",
       "      <td>0.838638</td>\n",
       "      <td>0.890965</td>\n",
       "      <td>0.876001</td>\n",
       "      <td>0.026593</td>\n",
       "      <td>22</td>\n",
       "    </tr>\n",
       "    <tr>\n",
       "      <th>14</th>\n",
       "      <td>0.007997</td>\n",
       "      <td>0.000103</td>\n",
       "      <td>0.002207</td>\n",
       "      <td>0.000112</td>\n",
       "      <td>4</td>\n",
       "      <td>15</td>\n",
       "      <td>{'max_depth': 4, 'min_samples_leaf': 15}</td>\n",
       "      <td>0.902667</td>\n",
       "      <td>0.844474</td>\n",
       "      <td>0.894781</td>\n",
       "      <td>0.880641</td>\n",
       "      <td>0.025776</td>\n",
       "      <td>20</td>\n",
       "    </tr>\n",
       "    <tr>\n",
       "      <th>15</th>\n",
       "      <td>0.007989</td>\n",
       "      <td>0.000035</td>\n",
       "      <td>0.002145</td>\n",
       "      <td>0.000008</td>\n",
       "      <td>4</td>\n",
       "      <td>20</td>\n",
       "      <td>{'max_depth': 4, 'min_samples_leaf': 20}</td>\n",
       "      <td>0.901665</td>\n",
       "      <td>0.845756</td>\n",
       "      <td>0.897762</td>\n",
       "      <td>0.881728</td>\n",
       "      <td>0.025486</td>\n",
       "      <td>18</td>\n",
       "    </tr>\n",
       "    <tr>\n",
       "      <th>16</th>\n",
       "      <td>0.010306</td>\n",
       "      <td>0.000987</td>\n",
       "      <td>0.002286</td>\n",
       "      <td>0.000204</td>\n",
       "      <td>5</td>\n",
       "      <td>5</td>\n",
       "      <td>{'max_depth': 5, 'min_samples_leaf': 5}</td>\n",
       "      <td>0.924777</td>\n",
       "      <td>0.862236</td>\n",
       "      <td>0.901520</td>\n",
       "      <td>0.896177</td>\n",
       "      <td>0.025810</td>\n",
       "      <td>6</td>\n",
       "    </tr>\n",
       "    <tr>\n",
       "      <th>17</th>\n",
       "      <td>0.009563</td>\n",
       "      <td>0.000316</td>\n",
       "      <td>0.002326</td>\n",
       "      <td>0.000188</td>\n",
       "      <td>5</td>\n",
       "      <td>10</td>\n",
       "      <td>{'max_depth': 5, 'min_samples_leaf': 10}</td>\n",
       "      <td>0.910099</td>\n",
       "      <td>0.856332</td>\n",
       "      <td>0.905091</td>\n",
       "      <td>0.890507</td>\n",
       "      <td>0.024252</td>\n",
       "      <td>16</td>\n",
       "    </tr>\n",
       "    <tr>\n",
       "      <th>18</th>\n",
       "      <td>0.009302</td>\n",
       "      <td>0.000082</td>\n",
       "      <td>0.002261</td>\n",
       "      <td>0.000099</td>\n",
       "      <td>5</td>\n",
       "      <td>15</td>\n",
       "      <td>{'max_depth': 5, 'min_samples_leaf': 15}</td>\n",
       "      <td>0.921210</td>\n",
       "      <td>0.859608</td>\n",
       "      <td>0.912523</td>\n",
       "      <td>0.897780</td>\n",
       "      <td>0.027224</td>\n",
       "      <td>5</td>\n",
       "    </tr>\n",
       "    <tr>\n",
       "      <th>19</th>\n",
       "      <td>0.009573</td>\n",
       "      <td>0.000337</td>\n",
       "      <td>0.002277</td>\n",
       "      <td>0.000112</td>\n",
       "      <td>5</td>\n",
       "      <td>20</td>\n",
       "      <td>{'max_depth': 5, 'min_samples_leaf': 20}</td>\n",
       "      <td>0.920169</td>\n",
       "      <td>0.872591</td>\n",
       "      <td>0.909188</td>\n",
       "      <td>0.900649</td>\n",
       "      <td>0.020341</td>\n",
       "      <td>3</td>\n",
       "    </tr>\n",
       "    <tr>\n",
       "      <th>20</th>\n",
       "      <td>0.010640</td>\n",
       "      <td>0.000070</td>\n",
       "      <td>0.002144</td>\n",
       "      <td>0.000035</td>\n",
       "      <td>6</td>\n",
       "      <td>5</td>\n",
       "      <td>{'max_depth': 6, 'min_samples_leaf': 5}</td>\n",
       "      <td>0.916229</td>\n",
       "      <td>0.836919</td>\n",
       "      <td>0.919261</td>\n",
       "      <td>0.890803</td>\n",
       "      <td>0.038122</td>\n",
       "      <td>14</td>\n",
       "    </tr>\n",
       "    <tr>\n",
       "      <th>21</th>\n",
       "      <td>0.010615</td>\n",
       "      <td>0.000145</td>\n",
       "      <td>0.002138</td>\n",
       "      <td>0.000057</td>\n",
       "      <td>6</td>\n",
       "      <td>10</td>\n",
       "      <td>{'max_depth': 6, 'min_samples_leaf': 10}</td>\n",
       "      <td>0.908547</td>\n",
       "      <td>0.865046</td>\n",
       "      <td>0.913216</td>\n",
       "      <td>0.895603</td>\n",
       "      <td>0.021691</td>\n",
       "      <td>8</td>\n",
       "    </tr>\n",
       "    <tr>\n",
       "      <th>22</th>\n",
       "      <td>0.010713</td>\n",
       "      <td>0.000353</td>\n",
       "      <td>0.002211</td>\n",
       "      <td>0.000113</td>\n",
       "      <td>6</td>\n",
       "      <td>15</td>\n",
       "      <td>{'max_depth': 6, 'min_samples_leaf': 15}</td>\n",
       "      <td>0.921819</td>\n",
       "      <td>0.866249</td>\n",
       "      <td>0.914559</td>\n",
       "      <td>0.900876</td>\n",
       "      <td>0.024664</td>\n",
       "      <td>2</td>\n",
       "    </tr>\n",
       "    <tr>\n",
       "      <th>23</th>\n",
       "      <td>0.010386</td>\n",
       "      <td>0.000052</td>\n",
       "      <td>0.002313</td>\n",
       "      <td>0.000155</td>\n",
       "      <td>6</td>\n",
       "      <td>20</td>\n",
       "      <td>{'max_depth': 6, 'min_samples_leaf': 20}</td>\n",
       "      <td>0.923676</td>\n",
       "      <td>0.877395</td>\n",
       "      <td>0.903527</td>\n",
       "      <td>0.901532</td>\n",
       "      <td>0.018947</td>\n",
       "      <td>1</td>\n",
       "    </tr>\n",
       "    <tr>\n",
       "      <th>24</th>\n",
       "      <td>0.011882</td>\n",
       "      <td>0.000217</td>\n",
       "      <td>0.002879</td>\n",
       "      <td>0.000857</td>\n",
       "      <td>7</td>\n",
       "      <td>5</td>\n",
       "      <td>{'max_depth': 7, 'min_samples_leaf': 5}</td>\n",
       "      <td>0.864751</td>\n",
       "      <td>0.811823</td>\n",
       "      <td>0.923152</td>\n",
       "      <td>0.866575</td>\n",
       "      <td>0.045468</td>\n",
       "      <td>24</td>\n",
       "    </tr>\n",
       "    <tr>\n",
       "      <th>25</th>\n",
       "      <td>0.011784</td>\n",
       "      <td>0.000052</td>\n",
       "      <td>0.002177</td>\n",
       "      <td>0.000022</td>\n",
       "      <td>7</td>\n",
       "      <td>10</td>\n",
       "      <td>{'max_depth': 7, 'min_samples_leaf': 10}</td>\n",
       "      <td>0.906037</td>\n",
       "      <td>0.860389</td>\n",
       "      <td>0.910004</td>\n",
       "      <td>0.892143</td>\n",
       "      <td>0.022512</td>\n",
       "      <td>11</td>\n",
       "    </tr>\n",
       "    <tr>\n",
       "      <th>26</th>\n",
       "      <td>0.011411</td>\n",
       "      <td>0.000063</td>\n",
       "      <td>0.002488</td>\n",
       "      <td>0.000547</td>\n",
       "      <td>7</td>\n",
       "      <td>15</td>\n",
       "      <td>{'max_depth': 7, 'min_samples_leaf': 15}</td>\n",
       "      <td>0.913356</td>\n",
       "      <td>0.863705</td>\n",
       "      <td>0.919409</td>\n",
       "      <td>0.898823</td>\n",
       "      <td>0.024955</td>\n",
       "      <td>4</td>\n",
       "    </tr>\n",
       "    <tr>\n",
       "      <th>27</th>\n",
       "      <td>0.011593</td>\n",
       "      <td>0.000189</td>\n",
       "      <td>0.002324</td>\n",
       "      <td>0.000118</td>\n",
       "      <td>7</td>\n",
       "      <td>20</td>\n",
       "      <td>{'max_depth': 7, 'min_samples_leaf': 20}</td>\n",
       "      <td>0.914294</td>\n",
       "      <td>0.854598</td>\n",
       "      <td>0.908932</td>\n",
       "      <td>0.892608</td>\n",
       "      <td>0.026966</td>\n",
       "      <td>10</td>\n",
       "    </tr>\n",
       "    <tr>\n",
       "      <th>28</th>\n",
       "      <td>0.012789</td>\n",
       "      <td>0.000171</td>\n",
       "      <td>0.002130</td>\n",
       "      <td>0.000043</td>\n",
       "      <td>8</td>\n",
       "      <td>5</td>\n",
       "      <td>{'max_depth': 8, 'min_samples_leaf': 5}</td>\n",
       "      <td>0.884886</td>\n",
       "      <td>0.853615</td>\n",
       "      <td>0.896891</td>\n",
       "      <td>0.878464</td>\n",
       "      <td>0.018242</td>\n",
       "      <td>21</td>\n",
       "    </tr>\n",
       "    <tr>\n",
       "      <th>29</th>\n",
       "      <td>0.013706</td>\n",
       "      <td>0.000457</td>\n",
       "      <td>0.002502</td>\n",
       "      <td>0.000221</td>\n",
       "      <td>8</td>\n",
       "      <td>10</td>\n",
       "      <td>{'max_depth': 8, 'min_samples_leaf': 10}</td>\n",
       "      <td>0.892003</td>\n",
       "      <td>0.882631</td>\n",
       "      <td>0.897167</td>\n",
       "      <td>0.890600</td>\n",
       "      <td>0.006017</td>\n",
       "      <td>15</td>\n",
       "    </tr>\n",
       "    <tr>\n",
       "      <th>30</th>\n",
       "      <td>0.013049</td>\n",
       "      <td>0.000224</td>\n",
       "      <td>0.002963</td>\n",
       "      <td>0.000872</td>\n",
       "      <td>8</td>\n",
       "      <td>15</td>\n",
       "      <td>{'max_depth': 8, 'min_samples_leaf': 15}</td>\n",
       "      <td>0.910251</td>\n",
       "      <td>0.883992</td>\n",
       "      <td>0.893212</td>\n",
       "      <td>0.895818</td>\n",
       "      <td>0.010878</td>\n",
       "      <td>7</td>\n",
       "    </tr>\n",
       "    <tr>\n",
       "      <th>31</th>\n",
       "      <td>0.012744</td>\n",
       "      <td>0.000217</td>\n",
       "      <td>0.002905</td>\n",
       "      <td>0.000878</td>\n",
       "      <td>8</td>\n",
       "      <td>20</td>\n",
       "      <td>{'max_depth': 8, 'min_samples_leaf': 20}</td>\n",
       "      <td>0.910340</td>\n",
       "      <td>0.875607</td>\n",
       "      <td>0.888269</td>\n",
       "      <td>0.891405</td>\n",
       "      <td>0.014352</td>\n",
       "      <td>13</td>\n",
       "    </tr>\n",
       "    <tr>\n",
       "      <th>32</th>\n",
       "      <td>0.013754</td>\n",
       "      <td>0.000187</td>\n",
       "      <td>0.002154</td>\n",
       "      <td>0.000033</td>\n",
       "      <td>9</td>\n",
       "      <td>5</td>\n",
       "      <td>{'max_depth': 9, 'min_samples_leaf': 5}</td>\n",
       "      <td>0.883716</td>\n",
       "      <td>0.839022</td>\n",
       "      <td>0.903261</td>\n",
       "      <td>0.875333</td>\n",
       "      <td>0.026887</td>\n",
       "      <td>23</td>\n",
       "    </tr>\n",
       "    <tr>\n",
       "      <th>33</th>\n",
       "      <td>0.015550</td>\n",
       "      <td>0.002367</td>\n",
       "      <td>0.002393</td>\n",
       "      <td>0.000275</td>\n",
       "      <td>9</td>\n",
       "      <td>10</td>\n",
       "      <td>{'max_depth': 9, 'min_samples_leaf': 10}</td>\n",
       "      <td>0.900683</td>\n",
       "      <td>0.881423</td>\n",
       "      <td>0.897477</td>\n",
       "      <td>0.893194</td>\n",
       "      <td>0.008426</td>\n",
       "      <td>9</td>\n",
       "    </tr>\n",
       "    <tr>\n",
       "      <th>34</th>\n",
       "      <td>0.014459</td>\n",
       "      <td>0.001448</td>\n",
       "      <td>0.002486</td>\n",
       "      <td>0.000375</td>\n",
       "      <td>9</td>\n",
       "      <td>15</td>\n",
       "      <td>{'max_depth': 9, 'min_samples_leaf': 15}</td>\n",
       "      <td>0.906504</td>\n",
       "      <td>0.880867</td>\n",
       "      <td>0.888490</td>\n",
       "      <td>0.891954</td>\n",
       "      <td>0.010749</td>\n",
       "      <td>12</td>\n",
       "    </tr>\n",
       "    <tr>\n",
       "      <th>35</th>\n",
       "      <td>0.012978</td>\n",
       "      <td>0.000369</td>\n",
       "      <td>0.002604</td>\n",
       "      <td>0.000194</td>\n",
       "      <td>9</td>\n",
       "      <td>20</td>\n",
       "      <td>{'max_depth': 9, 'min_samples_leaf': 20}</td>\n",
       "      <td>0.909303</td>\n",
       "      <td>0.872866</td>\n",
       "      <td>0.888550</td>\n",
       "      <td>0.890240</td>\n",
       "      <td>0.014924</td>\n",
       "      <td>17</td>\n",
       "    </tr>\n",
       "  </tbody>\n",
       "</table>\n",
       "</div>"
      ],
      "text/plain": [
       "    mean_fit_time  std_fit_time  mean_score_time  std_score_time  \\\n",
       "0        0.005492      0.000686         0.004158        0.001392   \n",
       "1        0.004598      0.000306         0.002445        0.000133   \n",
       "2        0.006676      0.002060         0.003388        0.000968   \n",
       "3        0.006540      0.001036         0.003019        0.000917   \n",
       "4        0.006227      0.000862         0.002597        0.000472   \n",
       "5        0.005327      0.000060         0.002082        0.000070   \n",
       "6        0.005959      0.000371         0.002262        0.000044   \n",
       "7        0.005874      0.000465         0.002316        0.000053   \n",
       "8        0.006887      0.000191         0.002454        0.000278   \n",
       "9        0.006948      0.000170         0.002734        0.000804   \n",
       "10       0.007916      0.001800         0.002090        0.000048   \n",
       "11       0.006731      0.000104         0.002342        0.000102   \n",
       "12       0.008089      0.000067         0.002081        0.000032   \n",
       "13       0.009083      0.001215         0.002170        0.000079   \n",
       "14       0.007997      0.000103         0.002207        0.000112   \n",
       "15       0.007989      0.000035         0.002145        0.000008   \n",
       "16       0.010306      0.000987         0.002286        0.000204   \n",
       "17       0.009563      0.000316         0.002326        0.000188   \n",
       "18       0.009302      0.000082         0.002261        0.000099   \n",
       "19       0.009573      0.000337         0.002277        0.000112   \n",
       "20       0.010640      0.000070         0.002144        0.000035   \n",
       "21       0.010615      0.000145         0.002138        0.000057   \n",
       "22       0.010713      0.000353         0.002211        0.000113   \n",
       "23       0.010386      0.000052         0.002313        0.000155   \n",
       "24       0.011882      0.000217         0.002879        0.000857   \n",
       "25       0.011784      0.000052         0.002177        0.000022   \n",
       "26       0.011411      0.000063         0.002488        0.000547   \n",
       "27       0.011593      0.000189         0.002324        0.000118   \n",
       "28       0.012789      0.000171         0.002130        0.000043   \n",
       "29       0.013706      0.000457         0.002502        0.000221   \n",
       "30       0.013049      0.000224         0.002963        0.000872   \n",
       "31       0.012744      0.000217         0.002905        0.000878   \n",
       "32       0.013754      0.000187         0.002154        0.000033   \n",
       "33       0.015550      0.002367         0.002393        0.000275   \n",
       "34       0.014459      0.001448         0.002486        0.000375   \n",
       "35       0.012978      0.000369         0.002604        0.000194   \n",
       "\n",
       "   param_max_depth param_min_samples_leaf  \\\n",
       "0                1                      5   \n",
       "1                1                     10   \n",
       "2                1                     15   \n",
       "3                1                     20   \n",
       "4                2                      5   \n",
       "5                2                     10   \n",
       "6                2                     15   \n",
       "7                2                     20   \n",
       "8                3                      5   \n",
       "9                3                     10   \n",
       "10               3                     15   \n",
       "11               3                     20   \n",
       "12               4                      5   \n",
       "13               4                     10   \n",
       "14               4                     15   \n",
       "15               4                     20   \n",
       "16               5                      5   \n",
       "17               5                     10   \n",
       "18               5                     15   \n",
       "19               5                     20   \n",
       "20               6                      5   \n",
       "21               6                     10   \n",
       "22               6                     15   \n",
       "23               6                     20   \n",
       "24               7                      5   \n",
       "25               7                     10   \n",
       "26               7                     15   \n",
       "27               7                     20   \n",
       "28               8                      5   \n",
       "29               8                     10   \n",
       "30               8                     15   \n",
       "31               8                     20   \n",
       "32               9                      5   \n",
       "33               9                     10   \n",
       "34               9                     15   \n",
       "35               9                     20   \n",
       "\n",
       "                                      params  split0_test_score  \\\n",
       "0    {'max_depth': 1, 'min_samples_leaf': 5}           0.632508   \n",
       "1   {'max_depth': 1, 'min_samples_leaf': 10}           0.632508   \n",
       "2   {'max_depth': 1, 'min_samples_leaf': 15}           0.632508   \n",
       "3   {'max_depth': 1, 'min_samples_leaf': 20}           0.632508   \n",
       "4    {'max_depth': 2, 'min_samples_leaf': 5}           0.756184   \n",
       "5   {'max_depth': 2, 'min_samples_leaf': 10}           0.756184   \n",
       "6   {'max_depth': 2, 'min_samples_leaf': 15}           0.756184   \n",
       "7   {'max_depth': 2, 'min_samples_leaf': 20}           0.756184   \n",
       "8    {'max_depth': 3, 'min_samples_leaf': 5}           0.851778   \n",
       "9   {'max_depth': 3, 'min_samples_leaf': 10}           0.846478   \n",
       "10  {'max_depth': 3, 'min_samples_leaf': 15}           0.845643   \n",
       "11  {'max_depth': 3, 'min_samples_leaf': 20}           0.851778   \n",
       "12   {'max_depth': 4, 'min_samples_leaf': 5}           0.905153   \n",
       "13  {'max_depth': 4, 'min_samples_leaf': 10}           0.898399   \n",
       "14  {'max_depth': 4, 'min_samples_leaf': 15}           0.902667   \n",
       "15  {'max_depth': 4, 'min_samples_leaf': 20}           0.901665   \n",
       "16   {'max_depth': 5, 'min_samples_leaf': 5}           0.924777   \n",
       "17  {'max_depth': 5, 'min_samples_leaf': 10}           0.910099   \n",
       "18  {'max_depth': 5, 'min_samples_leaf': 15}           0.921210   \n",
       "19  {'max_depth': 5, 'min_samples_leaf': 20}           0.920169   \n",
       "20   {'max_depth': 6, 'min_samples_leaf': 5}           0.916229   \n",
       "21  {'max_depth': 6, 'min_samples_leaf': 10}           0.908547   \n",
       "22  {'max_depth': 6, 'min_samples_leaf': 15}           0.921819   \n",
       "23  {'max_depth': 6, 'min_samples_leaf': 20}           0.923676   \n",
       "24   {'max_depth': 7, 'min_samples_leaf': 5}           0.864751   \n",
       "25  {'max_depth': 7, 'min_samples_leaf': 10}           0.906037   \n",
       "26  {'max_depth': 7, 'min_samples_leaf': 15}           0.913356   \n",
       "27  {'max_depth': 7, 'min_samples_leaf': 20}           0.914294   \n",
       "28   {'max_depth': 8, 'min_samples_leaf': 5}           0.884886   \n",
       "29  {'max_depth': 8, 'min_samples_leaf': 10}           0.892003   \n",
       "30  {'max_depth': 8, 'min_samples_leaf': 15}           0.910251   \n",
       "31  {'max_depth': 8, 'min_samples_leaf': 20}           0.910340   \n",
       "32   {'max_depth': 9, 'min_samples_leaf': 5}           0.883716   \n",
       "33  {'max_depth': 9, 'min_samples_leaf': 10}           0.900683   \n",
       "34  {'max_depth': 9, 'min_samples_leaf': 15}           0.906504   \n",
       "35  {'max_depth': 9, 'min_samples_leaf': 20}           0.909303   \n",
       "\n",
       "    split1_test_score  split2_test_score  mean_test_score  std_test_score  \\\n",
       "0            0.623224           0.634204         0.629979        0.004826   \n",
       "1            0.623224           0.634204         0.629979        0.004826   \n",
       "2            0.623224           0.634204         0.629979        0.004826   \n",
       "3            0.623224           0.634204         0.629979        0.004826   \n",
       "4            0.744931           0.741321         0.747479        0.006330   \n",
       "5            0.744931           0.741321         0.747479        0.006330   \n",
       "6            0.744931           0.741321         0.747479        0.006330   \n",
       "7            0.744931           0.741321         0.747479        0.006330   \n",
       "8            0.822802           0.829969         0.834850        0.012323   \n",
       "9            0.816848           0.835768         0.833031        0.012250   \n",
       "10           0.820557           0.840332         0.835511        0.010794   \n",
       "11           0.821250           0.840332         0.837787        0.012593   \n",
       "12           0.840530           0.896724         0.880802        0.028684   \n",
       "13           0.838638           0.890965         0.876001        0.026593   \n",
       "14           0.844474           0.894781         0.880641        0.025776   \n",
       "15           0.845756           0.897762         0.881728        0.025486   \n",
       "16           0.862236           0.901520         0.896177        0.025810   \n",
       "17           0.856332           0.905091         0.890507        0.024252   \n",
       "18           0.859608           0.912523         0.897780        0.027224   \n",
       "19           0.872591           0.909188         0.900649        0.020341   \n",
       "20           0.836919           0.919261         0.890803        0.038122   \n",
       "21           0.865046           0.913216         0.895603        0.021691   \n",
       "22           0.866249           0.914559         0.900876        0.024664   \n",
       "23           0.877395           0.903527         0.901532        0.018947   \n",
       "24           0.811823           0.923152         0.866575        0.045468   \n",
       "25           0.860389           0.910004         0.892143        0.022512   \n",
       "26           0.863705           0.919409         0.898823        0.024955   \n",
       "27           0.854598           0.908932         0.892608        0.026966   \n",
       "28           0.853615           0.896891         0.878464        0.018242   \n",
       "29           0.882631           0.897167         0.890600        0.006017   \n",
       "30           0.883992           0.893212         0.895818        0.010878   \n",
       "31           0.875607           0.888269         0.891405        0.014352   \n",
       "32           0.839022           0.903261         0.875333        0.026887   \n",
       "33           0.881423           0.897477         0.893194        0.008426   \n",
       "34           0.880867           0.888490         0.891954        0.010749   \n",
       "35           0.872866           0.888550         0.890240        0.014924   \n",
       "\n",
       "    rank_test_score  \n",
       "0                33  \n",
       "1                33  \n",
       "2                33  \n",
       "3                33  \n",
       "4                29  \n",
       "5                29  \n",
       "6                29  \n",
       "7                29  \n",
       "8                27  \n",
       "9                28  \n",
       "10               26  \n",
       "11               25  \n",
       "12               19  \n",
       "13               22  \n",
       "14               20  \n",
       "15               18  \n",
       "16                6  \n",
       "17               16  \n",
       "18                5  \n",
       "19                3  \n",
       "20               14  \n",
       "21                8  \n",
       "22                2  \n",
       "23                1  \n",
       "24               24  \n",
       "25               11  \n",
       "26                4  \n",
       "27               10  \n",
       "28               21  \n",
       "29               15  \n",
       "30                7  \n",
       "31               13  \n",
       "32               23  \n",
       "33                9  \n",
       "34               12  \n",
       "35               17  "
      ]
     },
     "execution_count": 33,
     "metadata": {},
     "output_type": "execute_result"
    }
   ],
   "source": [
    "pd.DataFrame(optimalmodel_dt.cv_results_)"
   ]
  },
  {
   "cell_type": "code",
   "execution_count": 34,
   "metadata": {},
   "outputs": [
    {
     "data": {
      "text/plain": [
       "{'max_depth': 6, 'min_samples_leaf': 20}"
      ]
     },
     "execution_count": 34,
     "metadata": {},
     "output_type": "execute_result"
    }
   ],
   "source": [
    "optimalmodel_dt.best_params_"
   ]
  },
  {
   "cell_type": "code",
   "execution_count": 35,
   "metadata": {},
   "outputs": [
    {
     "data": {
      "text/plain": [
       "0.9015324887697466"
      ]
     },
     "execution_count": 35,
     "metadata": {},
     "output_type": "execute_result"
    }
   ],
   "source": [
    "optimalmodel_dt.best_score_ #Cross Validation score"
   ]
  },
  {
   "cell_type": "markdown",
   "metadata": {},
   "source": [
    "# XG Boost"
   ]
  },
  {
   "cell_type": "code",
   "execution_count": 36,
   "metadata": {},
   "outputs": [],
   "source": [
    "from xgboost import XGBClassifier"
   ]
  },
  {
   "cell_type": "code",
   "execution_count": 37,
   "metadata": {},
   "outputs": [
    {
     "data": {
      "text/plain": [
       "XGBClassifier(base_score=0.5, booster='gbtree', colsample_bylevel=1,\n",
       "              colsample_bytree=1, gamma=0, learning_rate=0.1, max_delta_step=0,\n",
       "              max_depth=3, min_child_weight=1, missing=None, n_estimators=100,\n",
       "              n_jobs=1, nthread=None, objective='binary:logistic',\n",
       "              random_state=46, reg_alpha=0, reg_lambda=1, scale_pos_weight=1,\n",
       "              seed=None, silent=True, subsample=1)"
      ]
     },
     "execution_count": 37,
     "metadata": {},
     "output_type": "execute_result"
    }
   ],
   "source": [
    "model_XGB = XGBClassifier(random_state=46)\n",
    "model_XGB.fit(X_train_v, y_train_v)"
   ]
  },
  {
   "cell_type": "markdown",
   "metadata": {},
   "source": [
    "Train Score"
   ]
  },
  {
   "cell_type": "code",
   "execution_count": 38,
   "metadata": {},
   "outputs": [
    {
     "name": "stdout",
     "output_type": "stream",
     "text": [
      "ROC_AUC of model = 0.9627757509052987\n"
     ]
    }
   ],
   "source": [
    "y_train_pred_xgb = model_XGB.predict_proba(X_train_v)[:,1]\n",
    "\n",
    "print(\"ROC_AUC of model =\", roc_auc_score(y_train_v, y_train_pred_xgb))"
   ]
  },
  {
   "cell_type": "markdown",
   "metadata": {},
   "source": [
    "Validation Score"
   ]
  },
  {
   "cell_type": "code",
   "execution_count": 39,
   "metadata": {},
   "outputs": [
    {
     "name": "stdout",
     "output_type": "stream",
     "text": [
      "ROC_AUC of model = 0.8880094588955348\n"
     ]
    }
   ],
   "source": [
    "y_val_pred_xgb = model_XGB.predict(X_val)\n",
    "\n",
    "print(\"ROC_AUC of model =\", roc_auc_score(y_val, y_val_pred_xgb))"
   ]
  },
  {
   "cell_type": "code",
   "execution_count": 40,
   "metadata": {},
   "outputs": [
    {
     "data": {
      "image/png": "[encoded data removed]",
      "text/plain": [
       "<Figure size 864x1296 with 1 Axes>"
      ]
     },
     "metadata": {
      "needs_background": "light"
     },
     "output_type": "display_data"
    }
   ],
   "source": [
    "#LEARN HOW XGB CLASSIFIER WORKS. HOW DOES FEATURE IMPORTANCE WORK HERE\n",
    "\n",
    "#Using more estimators increasing the train speed therefore 100 seemed suitable. \n",
    "#Higher max depth overfits the model. \n",
    "#subsample is used as the regularization effect\n",
    "#High learning rates makes algorithm faster but does not yield accurate results thus keeping it to 0.1 is a good number\n",
    "import xgboost as xgb\n",
    "\n",
    "XGB = xgb.XGBClassifier(max_depth=7, n_estimators=100, colsample_bytree=0.8, \n",
    "                        subsample=0.8, nthread=10, learning_rate=0.1, random_state=48)\n",
    "\n",
    "XGB.fit(X_train,y_train)\n",
    "\n",
    "#Identifying the important features\n",
    "fig, ax = plt.subplots(figsize=(12,18))\n",
    "xgb.plot_importance(XGB, max_num_features=50, height=0.8, ax=ax)\n",
    "\n",
    "plt.show()"
   ]
  },
  {
   "cell_type": "markdown",
   "metadata": {},
   "source": [
    "This chart gives up a much better representation of the important features useful to us, more so than the correlation matrix. We can deduce that the total day minutes and total evening minutes were critically important variables.\n",
    "On the other hand, the total international charges and total night charges were of lesser importance. \n",
    "\n",
    "These are plotted against the F score in the x-axis because as it is a measure of the tests accuracy and shows a more realistic measure of a tests performance by using both precision and recall."
   ]
  },
  {
   "cell_type": "markdown",
   "metadata": {},
   "source": [
    "## XG Boost Hyperparameter Tuning"
   ]
  },
  {
   "cell_type": "code",
   "execution_count": 41,
   "metadata": {},
   "outputs": [],
   "source": [
    "paramgrid_xgb = {'max_depth':[3,5,10], \n",
    "                 'learning_rate':[0.1,0.5,1]}"
   ]
  },
  {
   "cell_type": "code",
   "execution_count": 42,
   "metadata": {},
   "outputs": [
    {
     "data": {
      "text/plain": [
       "GridSearchCV(cv=StratifiedKFold(n_splits=3, random_state=110, shuffle=True),\n",
       "             error_score=nan,\n",
       "             estimator=XGBClassifier(base_score=0.5, booster='gbtree',\n",
       "                                     colsample_bylevel=1, colsample_bytree=1,\n",
       "                                     gamma=0, learning_rate=0.1,\n",
       "                                     max_delta_step=0, max_depth=3,\n",
       "                                     min_child_weight=1, missing=None,\n",
       "                                     n_estimators=100, n_jobs=1, nthread=None,\n",
       "                                     objective='binary:logistic',\n",
       "                                     random_state=57, reg_alpha=0, reg_lambda=1,\n",
       "                                     scale_pos_weight=1, seed=None, silent=True,\n",
       "                                     subsample=1),\n",
       "             iid='deprecated', n_jobs=None,\n",
       "             param_grid={'learning_rate': [0.1, 0.5, 1],\n",
       "                         'max_depth': [3, 5, 10]},\n",
       "             pre_dispatch='2*n_jobs', refit=True, return_train_score=False,\n",
       "             scoring='roc_auc', verbose=0)"
      ]
     },
     "execution_count": 42,
     "metadata": {},
     "output_type": "execute_result"
    }
   ],
   "source": [
    "optimalmodel_xgb = GridSearchCV(xgb.XGBClassifier(random_state=57), paramgrid_xgb, cv=skf, scoring=\"roc_auc\")\n",
    "optimalmodel_xgb.fit(X_train,y_train)"
   ]
  },
  {
   "cell_type": "code",
   "execution_count": 43,
   "metadata": {},
   "outputs": [],
   "source": [
    "xgb_bestestimator = optimalmodel_xgb.best_estimator_"
   ]
  },
  {
   "cell_type": "code",
   "execution_count": 44,
   "metadata": {},
   "outputs": [
    {
     "data": {
      "text/plain": [
       "{'learning_rate': 0.5, 'max_depth': 3}"
      ]
     },
     "execution_count": 44,
     "metadata": {},
     "output_type": "execute_result"
    }
   ],
   "source": [
    "optimalmodel_xgb.best_params_"
   ]
  },
  {
   "cell_type": "code",
   "execution_count": 45,
   "metadata": {},
   "outputs": [
    {
     "data": {
      "text/plain": [
       "0.923007753944543"
      ]
     },
     "execution_count": 45,
     "metadata": {},
     "output_type": "execute_result"
    }
   ],
   "source": [
    "optimalmodel_xgb.best_score_ #Cross Validation Score"
   ]
  },
  {
   "cell_type": "markdown",
   "metadata": {},
   "source": [
    "# Random Forest Classifier"
   ]
  },
  {
   "cell_type": "code",
   "execution_count": 46,
   "metadata": {},
   "outputs": [],
   "source": [
    "#Instantiate the RF classifier\n",
    "model_RF = RandomForestClassifier(random_state=56)"
   ]
  },
  {
   "cell_type": "code",
   "execution_count": 47,
   "metadata": {},
   "outputs": [
    {
     "data": {
      "text/plain": [
       "RandomForestClassifier(bootstrap=True, ccp_alpha=0.0, class_weight=None,\n",
       "                       criterion='gini', max_depth=None, max_features='auto',\n",
       "                       max_leaf_nodes=None, max_samples=None,\n",
       "                       min_impurity_decrease=0.0, min_impurity_split=None,\n",
       "                       min_samples_leaf=1, min_samples_split=2,\n",
       "                       min_weight_fraction_leaf=0.0, n_estimators=100,\n",
       "                       n_jobs=None, oob_score=False, random_state=56, verbose=0,\n",
       "                       warm_start=False)"
      ]
     },
     "execution_count": 47,
     "metadata": {},
     "output_type": "execute_result"
    }
   ],
   "source": [
    "model_RF.fit(X_train_v, y_train_v)"
   ]
  },
  {
   "cell_type": "markdown",
   "metadata": {},
   "source": [
    "Train"
   ]
  },
  {
   "cell_type": "code",
   "execution_count": 48,
   "metadata": {},
   "outputs": [
    {
     "name": "stdout",
     "output_type": "stream",
     "text": [
      "ROC_AUC of model = 1.0\n"
     ]
    }
   ],
   "source": [
    "y_train_pred = model_RF.predict_proba(X_train_v)[:,1]\n",
    "\n",
    "print(\"ROC_AUC of model =\", roc_auc_score(y_train_v, y_train_pred))"
   ]
  },
  {
   "cell_type": "markdown",
   "metadata": {},
   "source": [
    "Validation "
   ]
  },
  {
   "cell_type": "code",
   "execution_count": 49,
   "metadata": {},
   "outputs": [
    {
     "name": "stdout",
     "output_type": "stream",
     "text": [
      "ROC_AUC of model = 0.9368201418834331\n"
     ]
    }
   ],
   "source": [
    "y_val_pred = model_RF.predict_proba(X_val)[:,1]\n",
    "\n",
    "print(\"ROC_AUC of model =\", roc_auc_score(y_val, y_val_pred))"
   ]
  },
  {
   "cell_type": "markdown",
   "metadata": {},
   "source": [
    "## Random Forest Hyperparameter Tuning"
   ]
  },
  {
   "cell_type": "code",
   "execution_count": 50,
   "metadata": {},
   "outputs": [],
   "source": [
    "parametersgridrf = {'max_depth':[3,5,7],\n",
    "                   'min_samples_leaf':[1,3,5]\n",
    "                   }"
   ]
  },
  {
   "cell_type": "code",
   "execution_count": 51,
   "metadata": {},
   "outputs": [
    {
     "data": {
      "text/plain": [
       "GridSearchCV(cv=StratifiedKFold(n_splits=3, random_state=110, shuffle=True),\n",
       "             error_score=nan,\n",
       "             estimator=RandomForestClassifier(bootstrap=True, ccp_alpha=0.0,\n",
       "                                              class_weight=None,\n",
       "                                              criterion='gini', max_depth=None,\n",
       "                                              max_features='auto',\n",
       "                                              max_leaf_nodes=None,\n",
       "                                              max_samples=None,\n",
       "                                              min_impurity_decrease=0.0,\n",
       "                                              min_impurity_split=None,\n",
       "                                              min_samples_leaf=1,\n",
       "                                              min_samples_split=2,\n",
       "                                              min_weight_fraction_leaf=0.0,\n",
       "                                              n_estimators=100, n_jobs=None,\n",
       "                                              oob_score=False, random_state=58,\n",
       "                                              verbose=0, warm_start=False),\n",
       "             iid='deprecated', n_jobs=None,\n",
       "             param_grid={'max_depth': [3, 5, 7], 'min_samples_leaf': [1, 3, 5]},\n",
       "             pre_dispatch='2*n_jobs', refit=True, return_train_score=False,\n",
       "             scoring='roc_auc', verbose=0)"
      ]
     },
     "execution_count": 51,
     "metadata": {},
     "output_type": "execute_result"
    }
   ],
   "source": [
    "optimalmodel_RF = GridSearchCV(RandomForestClassifier(random_state=58), parametersgridrf, cv=skf, scoring=\"roc_auc\")\n",
    "optimalmodel_RF.fit(X_train_v, y_train_v)"
   ]
  },
  {
   "cell_type": "code",
   "execution_count": 52,
   "metadata": {},
   "outputs": [
    {
     "data": {
      "text/html": [
       "<div>\n",
       "<style scoped>\n",
       "    .dataframe tbody tr th:only-of-type {\n",
       "        vertical-align: middle;\n",
       "    }\n",
       "\n",
       "    .dataframe tbody tr th {\n",
       "        vertical-align: top;\n",
       "    }\n",
       "\n",
       "    .dataframe thead th {\n",
       "        text-align: right;\n",
       "    }\n",
       "</style>\n",
       "<table border=\"1\" class=\"dataframe\">\n",
       "  <thead>\n",
       "    <tr style=\"text-align: right;\">\n",
       "      <th></th>\n",
       "      <th>mean_fit_time</th>\n",
       "      <th>std_fit_time</th>\n",
       "      <th>mean_score_time</th>\n",
       "      <th>std_score_time</th>\n",
       "      <th>param_max_depth</th>\n",
       "      <th>param_min_samples_leaf</th>\n",
       "      <th>params</th>\n",
       "      <th>split0_test_score</th>\n",
       "      <th>split1_test_score</th>\n",
       "      <th>split2_test_score</th>\n",
       "      <th>mean_test_score</th>\n",
       "      <th>std_test_score</th>\n",
       "      <th>rank_test_score</th>\n",
       "    </tr>\n",
       "  </thead>\n",
       "  <tbody>\n",
       "    <tr>\n",
       "      <th>0</th>\n",
       "      <td>0.221365</td>\n",
       "      <td>0.010383</td>\n",
       "      <td>0.021495</td>\n",
       "      <td>0.010344</td>\n",
       "      <td>3</td>\n",
       "      <td>1</td>\n",
       "      <td>{'max_depth': 3, 'min_samples_leaf': 1}</td>\n",
       "      <td>0.903152</td>\n",
       "      <td>0.867392</td>\n",
       "      <td>0.891796</td>\n",
       "      <td>0.887446</td>\n",
       "      <td>0.014919</td>\n",
       "      <td>9</td>\n",
       "    </tr>\n",
       "    <tr>\n",
       "      <th>1</th>\n",
       "      <td>0.294397</td>\n",
       "      <td>0.084740</td>\n",
       "      <td>0.021537</td>\n",
       "      <td>0.010428</td>\n",
       "      <td>3</td>\n",
       "      <td>3</td>\n",
       "      <td>{'max_depth': 3, 'min_samples_leaf': 3}</td>\n",
       "      <td>0.903106</td>\n",
       "      <td>0.869556</td>\n",
       "      <td>0.893488</td>\n",
       "      <td>0.888716</td>\n",
       "      <td>0.014106</td>\n",
       "      <td>7</td>\n",
       "    </tr>\n",
       "    <tr>\n",
       "      <th>2</th>\n",
       "      <td>0.210907</td>\n",
       "      <td>0.003496</td>\n",
       "      <td>0.014744</td>\n",
       "      <td>0.000933</td>\n",
       "      <td>3</td>\n",
       "      <td>5</td>\n",
       "      <td>{'max_depth': 3, 'min_samples_leaf': 5}</td>\n",
       "      <td>0.899799</td>\n",
       "      <td>0.869357</td>\n",
       "      <td>0.893272</td>\n",
       "      <td>0.887476</td>\n",
       "      <td>0.013086</td>\n",
       "      <td>8</td>\n",
       "    </tr>\n",
       "    <tr>\n",
       "      <th>3</th>\n",
       "      <td>0.279037</td>\n",
       "      <td>0.042797</td>\n",
       "      <td>0.020171</td>\n",
       "      <td>0.005366</td>\n",
       "      <td>5</td>\n",
       "      <td>1</td>\n",
       "      <td>{'max_depth': 5, 'min_samples_leaf': 1}</td>\n",
       "      <td>0.928373</td>\n",
       "      <td>0.885900</td>\n",
       "      <td>0.904531</td>\n",
       "      <td>0.906268</td>\n",
       "      <td>0.017383</td>\n",
       "      <td>5</td>\n",
       "    </tr>\n",
       "    <tr>\n",
       "      <th>4</th>\n",
       "      <td>0.282591</td>\n",
       "      <td>0.017068</td>\n",
       "      <td>0.016266</td>\n",
       "      <td>0.001611</td>\n",
       "      <td>5</td>\n",
       "      <td>3</td>\n",
       "      <td>{'max_depth': 5, 'min_samples_leaf': 3}</td>\n",
       "      <td>0.924213</td>\n",
       "      <td>0.890106</td>\n",
       "      <td>0.901793</td>\n",
       "      <td>0.905371</td>\n",
       "      <td>0.014152</td>\n",
       "      <td>6</td>\n",
       "    </tr>\n",
       "    <tr>\n",
       "      <th>5</th>\n",
       "      <td>0.266120</td>\n",
       "      <td>0.021523</td>\n",
       "      <td>0.015082</td>\n",
       "      <td>0.001174</td>\n",
       "      <td>5</td>\n",
       "      <td>5</td>\n",
       "      <td>{'max_depth': 5, 'min_samples_leaf': 5}</td>\n",
       "      <td>0.925813</td>\n",
       "      <td>0.893124</td>\n",
       "      <td>0.904177</td>\n",
       "      <td>0.907705</td>\n",
       "      <td>0.013576</td>\n",
       "      <td>3</td>\n",
       "    </tr>\n",
       "    <tr>\n",
       "      <th>6</th>\n",
       "      <td>0.276561</td>\n",
       "      <td>0.001094</td>\n",
       "      <td>0.015371</td>\n",
       "      <td>0.000195</td>\n",
       "      <td>7</td>\n",
       "      <td>1</td>\n",
       "      <td>{'max_depth': 7, 'min_samples_leaf': 1}</td>\n",
       "      <td>0.936938</td>\n",
       "      <td>0.900347</td>\n",
       "      <td>0.898133</td>\n",
       "      <td>0.911806</td>\n",
       "      <td>0.017794</td>\n",
       "      <td>1</td>\n",
       "    </tr>\n",
       "    <tr>\n",
       "      <th>7</th>\n",
       "      <td>0.276056</td>\n",
       "      <td>0.004779</td>\n",
       "      <td>0.016018</td>\n",
       "      <td>0.001239</td>\n",
       "      <td>7</td>\n",
       "      <td>3</td>\n",
       "      <td>{'max_depth': 7, 'min_samples_leaf': 3}</td>\n",
       "      <td>0.934210</td>\n",
       "      <td>0.892789</td>\n",
       "      <td>0.900917</td>\n",
       "      <td>0.909305</td>\n",
       "      <td>0.017920</td>\n",
       "      <td>2</td>\n",
       "    </tr>\n",
       "    <tr>\n",
       "      <th>8</th>\n",
       "      <td>0.281351</td>\n",
       "      <td>0.010282</td>\n",
       "      <td>0.016757</td>\n",
       "      <td>0.001587</td>\n",
       "      <td>7</td>\n",
       "      <td>5</td>\n",
       "      <td>{'max_depth': 7, 'min_samples_leaf': 5}</td>\n",
       "      <td>0.929791</td>\n",
       "      <td>0.891691</td>\n",
       "      <td>0.899579</td>\n",
       "      <td>0.907020</td>\n",
       "      <td>0.016420</td>\n",
       "      <td>4</td>\n",
       "    </tr>\n",
       "  </tbody>\n",
       "</table>\n",
       "</div>"
      ],
      "text/plain": [
       "   mean_fit_time  std_fit_time  mean_score_time  std_score_time  \\\n",
       "0       0.221365      0.010383         0.021495        0.010344   \n",
       "1       0.294397      0.084740         0.021537        0.010428   \n",
       "2       0.210907      0.003496         0.014744        0.000933   \n",
       "3       0.279037      0.042797         0.020171        0.005366   \n",
       "4       0.282591      0.017068         0.016266        0.001611   \n",
       "5       0.266120      0.021523         0.015082        0.001174   \n",
       "6       0.276561      0.001094         0.015371        0.000195   \n",
       "7       0.276056      0.004779         0.016018        0.001239   \n",
       "8       0.281351      0.010282         0.016757        0.001587   \n",
       "\n",
       "  param_max_depth param_min_samples_leaf  \\\n",
       "0               3                      1   \n",
       "1               3                      3   \n",
       "2               3                      5   \n",
       "3               5                      1   \n",
       "4               5                      3   \n",
       "5               5                      5   \n",
       "6               7                      1   \n",
       "7               7                      3   \n",
       "8               7                      5   \n",
       "\n",
       "                                    params  split0_test_score  \\\n",
       "0  {'max_depth': 3, 'min_samples_leaf': 1}           0.903152   \n",
       "1  {'max_depth': 3, 'min_samples_leaf': 3}           0.903106   \n",
       "2  {'max_depth': 3, 'min_samples_leaf': 5}           0.899799   \n",
       "3  {'max_depth': 5, 'min_samples_leaf': 1}           0.928373   \n",
       "4  {'max_depth': 5, 'min_samples_leaf': 3}           0.924213   \n",
       "5  {'max_depth': 5, 'min_samples_leaf': 5}           0.925813   \n",
       "6  {'max_depth': 7, 'min_samples_leaf': 1}           0.936938   \n",
       "7  {'max_depth': 7, 'min_samples_leaf': 3}           0.934210   \n",
       "8  {'max_depth': 7, 'min_samples_leaf': 5}           0.929791   \n",
       "\n",
       "   split1_test_score  split2_test_score  mean_test_score  std_test_score  \\\n",
       "0           0.867392           0.891796         0.887446        0.014919   \n",
       "1           0.869556           0.893488         0.888716        0.014106   \n",
       "2           0.869357           0.893272         0.887476        0.013086   \n",
       "3           0.885900           0.904531         0.906268        0.017383   \n",
       "4           0.890106           0.901793         0.905371        0.014152   \n",
       "5           0.893124           0.904177         0.907705        0.013576   \n",
       "6           0.900347           0.898133         0.911806        0.017794   \n",
       "7           0.892789           0.900917         0.909305        0.017920   \n",
       "8           0.891691           0.899579         0.907020        0.016420   \n",
       "\n",
       "   rank_test_score  \n",
       "0                9  \n",
       "1                7  \n",
       "2                8  \n",
       "3                5  \n",
       "4                6  \n",
       "5                3  \n",
       "6                1  \n",
       "7                2  \n",
       "8                4  "
      ]
     },
     "execution_count": 52,
     "metadata": {},
     "output_type": "execute_result"
    }
   ],
   "source": [
    "pd.DataFrame(optimalmodel_RF.cv_results_)"
   ]
  },
  {
   "cell_type": "code",
   "execution_count": 53,
   "metadata": {},
   "outputs": [
    {
     "data": {
      "text/plain": [
       "{'max_depth': 7, 'min_samples_leaf': 1}"
      ]
     },
     "execution_count": 53,
     "metadata": {},
     "output_type": "execute_result"
    }
   ],
   "source": [
    "optimalmodel_RF.best_params_"
   ]
  },
  {
   "cell_type": "code",
   "execution_count": 54,
   "metadata": {},
   "outputs": [
    {
     "data": {
      "text/plain": [
       "0.9118060894161456"
      ]
     },
     "execution_count": 54,
     "metadata": {},
     "output_type": "execute_result"
    }
   ],
   "source": [
    "optimalmodel_RF.best_score_ #Cross Validation Score"
   ]
  },
  {
   "cell_type": "markdown",
   "metadata": {},
   "source": [
    "# Evaluation"
   ]
  },
  {
   "cell_type": "markdown",
   "metadata": {},
   "source": [
    "By checking the validation scores, I have found out that the best model was Random Forest basic without tuning...0.93"
   ]
  },
  {
   "cell_type": "code",
   "execution_count": 55,
   "metadata": {},
   "outputs": [],
   "source": [
    "from sklearn.metrics import classification_report"
   ]
  },
  {
   "cell_type": "code",
   "execution_count": null,
   "metadata": {},
   "outputs": [],
   "source": []
  }
 ],
 "metadata": {
  "kernelspec": {
   "display_name": "Python [conda env:learn-env] *",
   "language": "python",
   "name": "conda-env-learn-env-py"
  },
  "language_info": {
   "codemirror_mode": {
    "name": "ipython",
    "version": 3
   },
   "file_extension": ".py",
   "mimetype": "text/x-python",
   "name": "python",
   "nbconvert_exporter": "python",
   "pygments_lexer": "ipython3",
   "version": "3.6.6"
  }
 },
 "nbformat": 4,
 "nbformat_minor": 2
}
