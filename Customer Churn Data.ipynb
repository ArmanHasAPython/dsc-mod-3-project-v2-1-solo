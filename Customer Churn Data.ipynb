{
 "cells": [
  {
   "cell_type": "markdown",
   "metadata": {},
   "source": [
    "# Business Understanding"
   ]
  },
  {
   "cell_type": "markdown",
   "metadata": {},
   "source": [
    "Syriatel is the leading mobile telecommunications company based in Damascus, Syria. Their vision is that, by focusing solely on customer satisfaction and social responsibility they are able to present products and services of a high standard. \n",
    "\n",
    "The goal is to continue to drive the excellent standards of the company by predicting whether a customer will churn from doing business with SyriaTel. \n",
    "\n",
    "This will be helped by figuring out identifying the customer likely to churn and negotiate better conditions for them to stay on with the network provider through conversational means.\n",
    "\n",
    "Targeting ALL customers, likely and not-likely to churn will be costly in revenue to the company and therefore it is more economically beneficial to apply the retention measures to those likely to churn only."
   ]
  },
  {
   "cell_type": "markdown",
   "metadata": {},
   "source": [
    "# Data Understanding"
   ]
  },
  {
   "cell_type": "code",
   "execution_count": 116,
   "metadata": {
    "scrolled": true
   },
   "outputs": [],
   "source": [
    "#Import the libraries\n",
    "import pandas as pd\n",
    "import numpy as np\n",
    "import matplotlib.pyplot as plt\n",
    "import seaborn as sns\n",
    "%matplotlib inline\n",
    "\n",
    "#For Train Test Split\n",
    "from sklearn.metrics import roc_auc_score \n",
    "from sklearn.metrics import accuracy_score\n",
    "from sklearn.metrics import precision_score\n",
    "from sklearn.metrics import recall_score \n",
    "from sklearn.metrics import f1_score\n",
    "\n",
    "from sklearn.linear_model import LogisticRegression\n",
    "from sklearn.metrics import mean_squared_error as mse\n",
    "from sklearn.metrics import mean_absolute_error as mae\n",
    "from sklearn.preprocessing import StandardScaler\n",
    "from sklearn.model_selection import cross_validate\n",
    "from sklearn.model_selection import train_test_split\n",
    "\n",
    "\n",
    "#DecisionTrees\n",
    "from sklearn.tree import DecisionTreeClassifier\n",
    "from sklearn.tree import export_graphviz\n",
    "from sklearn.preprocessing import OneHotEncoder\n",
    "from IPython.display import Image\n",
    "from sklearn.tree import export_graphviz\n",
    "from pydotplus import graph_from_dot_data\n",
    "\n",
    "#Random Forest Classifier\n",
    "from sklearn.ensemble import RandomForestClassifier\n",
    "\n",
    "#Gaussian Naive Bayes\n",
    "from sklearn.naive_bayes import GaussianNB "
   ]
  },
  {
   "cell_type": "code",
   "execution_count": 117,
   "metadata": {},
   "outputs": [],
   "source": [
    "df = pd.read_csv('churn.csv')"
   ]
  },
  {
   "cell_type": "code",
   "execution_count": 118,
   "metadata": {},
   "outputs": [
    {
     "data": {
      "text/html": [
       "<div>\n",
       "<style scoped>\n",
       "    .dataframe tbody tr th:only-of-type {\n",
       "        vertical-align: middle;\n",
       "    }\n",
       "\n",
       "    .dataframe tbody tr th {\n",
       "        vertical-align: top;\n",
       "    }\n",
       "\n",
       "    .dataframe thead th {\n",
       "        text-align: right;\n",
       "    }\n",
       "</style>\n",
       "<table border=\"1\" class=\"dataframe\">\n",
       "  <thead>\n",
       "    <tr style=\"text-align: right;\">\n",
       "      <th></th>\n",
       "      <th>state</th>\n",
       "      <th>account length</th>\n",
       "      <th>area code</th>\n",
       "      <th>phone number</th>\n",
       "      <th>international plan</th>\n",
       "      <th>voice mail plan</th>\n",
       "      <th>number vmail messages</th>\n",
       "      <th>total day minutes</th>\n",
       "      <th>total day calls</th>\n",
       "      <th>total day charge</th>\n",
       "      <th>...</th>\n",
       "      <th>total eve calls</th>\n",
       "      <th>total eve charge</th>\n",
       "      <th>total night minutes</th>\n",
       "      <th>total night calls</th>\n",
       "      <th>total night charge</th>\n",
       "      <th>total intl minutes</th>\n",
       "      <th>total intl calls</th>\n",
       "      <th>total intl charge</th>\n",
       "      <th>customer service calls</th>\n",
       "      <th>churn</th>\n",
       "    </tr>\n",
       "  </thead>\n",
       "  <tbody>\n",
       "    <tr>\n",
       "      <th>0</th>\n",
       "      <td>KS</td>\n",
       "      <td>128</td>\n",
       "      <td>415</td>\n",
       "      <td>382-4657</td>\n",
       "      <td>no</td>\n",
       "      <td>yes</td>\n",
       "      <td>25</td>\n",
       "      <td>265.1</td>\n",
       "      <td>110</td>\n",
       "      <td>45.07</td>\n",
       "      <td>...</td>\n",
       "      <td>99</td>\n",
       "      <td>16.78</td>\n",
       "      <td>244.7</td>\n",
       "      <td>91</td>\n",
       "      <td>11.01</td>\n",
       "      <td>10.0</td>\n",
       "      <td>3</td>\n",
       "      <td>2.70</td>\n",
       "      <td>1</td>\n",
       "      <td>False</td>\n",
       "    </tr>\n",
       "    <tr>\n",
       "      <th>1</th>\n",
       "      <td>OH</td>\n",
       "      <td>107</td>\n",
       "      <td>415</td>\n",
       "      <td>371-7191</td>\n",
       "      <td>no</td>\n",
       "      <td>yes</td>\n",
       "      <td>26</td>\n",
       "      <td>161.6</td>\n",
       "      <td>123</td>\n",
       "      <td>27.47</td>\n",
       "      <td>...</td>\n",
       "      <td>103</td>\n",
       "      <td>16.62</td>\n",
       "      <td>254.4</td>\n",
       "      <td>103</td>\n",
       "      <td>11.45</td>\n",
       "      <td>13.7</td>\n",
       "      <td>3</td>\n",
       "      <td>3.70</td>\n",
       "      <td>1</td>\n",
       "      <td>False</td>\n",
       "    </tr>\n",
       "    <tr>\n",
       "      <th>2</th>\n",
       "      <td>NJ</td>\n",
       "      <td>137</td>\n",
       "      <td>415</td>\n",
       "      <td>358-1921</td>\n",
       "      <td>no</td>\n",
       "      <td>no</td>\n",
       "      <td>0</td>\n",
       "      <td>243.4</td>\n",
       "      <td>114</td>\n",
       "      <td>41.38</td>\n",
       "      <td>...</td>\n",
       "      <td>110</td>\n",
       "      <td>10.30</td>\n",
       "      <td>162.6</td>\n",
       "      <td>104</td>\n",
       "      <td>7.32</td>\n",
       "      <td>12.2</td>\n",
       "      <td>5</td>\n",
       "      <td>3.29</td>\n",
       "      <td>0</td>\n",
       "      <td>False</td>\n",
       "    </tr>\n",
       "    <tr>\n",
       "      <th>3</th>\n",
       "      <td>OH</td>\n",
       "      <td>84</td>\n",
       "      <td>408</td>\n",
       "      <td>375-9999</td>\n",
       "      <td>yes</td>\n",
       "      <td>no</td>\n",
       "      <td>0</td>\n",
       "      <td>299.4</td>\n",
       "      <td>71</td>\n",
       "      <td>50.90</td>\n",
       "      <td>...</td>\n",
       "      <td>88</td>\n",
       "      <td>5.26</td>\n",
       "      <td>196.9</td>\n",
       "      <td>89</td>\n",
       "      <td>8.86</td>\n",
       "      <td>6.6</td>\n",
       "      <td>7</td>\n",
       "      <td>1.78</td>\n",
       "      <td>2</td>\n",
       "      <td>False</td>\n",
       "    </tr>\n",
       "    <tr>\n",
       "      <th>4</th>\n",
       "      <td>OK</td>\n",
       "      <td>75</td>\n",
       "      <td>415</td>\n",
       "      <td>330-6626</td>\n",
       "      <td>yes</td>\n",
       "      <td>no</td>\n",
       "      <td>0</td>\n",
       "      <td>166.7</td>\n",
       "      <td>113</td>\n",
       "      <td>28.34</td>\n",
       "      <td>...</td>\n",
       "      <td>122</td>\n",
       "      <td>12.61</td>\n",
       "      <td>186.9</td>\n",
       "      <td>121</td>\n",
       "      <td>8.41</td>\n",
       "      <td>10.1</td>\n",
       "      <td>3</td>\n",
       "      <td>2.73</td>\n",
       "      <td>3</td>\n",
       "      <td>False</td>\n",
       "    </tr>\n",
       "  </tbody>\n",
       "</table>\n",
       "<p>5 rows × 21 columns</p>\n",
       "</div>"
      ],
      "text/plain": [
       "  state  account length  area code phone number international plan  \\\n",
       "0    KS             128        415     382-4657                 no   \n",
       "1    OH             107        415     371-7191                 no   \n",
       "2    NJ             137        415     358-1921                 no   \n",
       "3    OH              84        408     375-9999                yes   \n",
       "4    OK              75        415     330-6626                yes   \n",
       "\n",
       "  voice mail plan  number vmail messages  total day minutes  total day calls  \\\n",
       "0             yes                     25              265.1              110   \n",
       "1             yes                     26              161.6              123   \n",
       "2              no                      0              243.4              114   \n",
       "3              no                      0              299.4               71   \n",
       "4              no                      0              166.7              113   \n",
       "\n",
       "   total day charge  ...    total eve calls  total eve charge  \\\n",
       "0             45.07  ...                 99             16.78   \n",
       "1             27.47  ...                103             16.62   \n",
       "2             41.38  ...                110             10.30   \n",
       "3             50.90  ...                 88              5.26   \n",
       "4             28.34  ...                122             12.61   \n",
       "\n",
       "   total night minutes  total night calls  total night charge  \\\n",
       "0                244.7                 91               11.01   \n",
       "1                254.4                103               11.45   \n",
       "2                162.6                104                7.32   \n",
       "3                196.9                 89                8.86   \n",
       "4                186.9                121                8.41   \n",
       "\n",
       "   total intl minutes  total intl calls  total intl charge  \\\n",
       "0                10.0                 3               2.70   \n",
       "1                13.7                 3               3.70   \n",
       "2                12.2                 5               3.29   \n",
       "3                 6.6                 7               1.78   \n",
       "4                10.1                 3               2.73   \n",
       "\n",
       "   customer service calls  churn  \n",
       "0                       1  False  \n",
       "1                       1  False  \n",
       "2                       0  False  \n",
       "3                       2  False  \n",
       "4                       3  False  \n",
       "\n",
       "[5 rows x 21 columns]"
      ]
     },
     "execution_count": 118,
     "metadata": {},
     "output_type": "execute_result"
    }
   ],
   "source": [
    "df.head()"
   ]
  },
  {
   "cell_type": "code",
   "execution_count": 119,
   "metadata": {},
   "outputs": [
    {
     "name": "stdout",
     "output_type": "stream",
     "text": [
      "state\n",
      "account length\n",
      "area code\n",
      "phone number\n",
      "international plan\n",
      "voice mail plan\n",
      "number vmail messages\n",
      "total day minutes\n",
      "total day calls\n",
      "total day charge\n",
      "total eve minutes\n",
      "total eve calls\n",
      "total eve charge\n",
      "total night minutes\n",
      "total night calls\n",
      "total night charge\n",
      "total intl minutes\n",
      "total intl calls\n",
      "total intl charge\n",
      "customer service calls\n",
      "churn\n"
     ]
    }
   ],
   "source": [
    "#Identifying the columns which will be useful to find which ones to drop later\n",
    "\n",
    "for col in df.columns:\n",
    "    print (col)"
   ]
  },
  {
   "cell_type": "code",
   "execution_count": 120,
   "metadata": {},
   "outputs": [
    {
     "data": {
      "text/plain": [
       "(3333, 21)"
      ]
     },
     "execution_count": 120,
     "metadata": {},
     "output_type": "execute_result"
    }
   ],
   "source": [
    "#Identify the total number of rows and columns\n",
    "\n",
    "df.shape"
   ]
  },
  {
   "cell_type": "code",
   "execution_count": 121,
   "metadata": {},
   "outputs": [
    {
     "name": "stdout",
     "output_type": "stream",
     "text": [
      "<class 'pandas.core.frame.DataFrame'>\n",
      "RangeIndex: 3333 entries, 0 to 3332\n",
      "Data columns (total 21 columns):\n",
      "state                     3333 non-null object\n",
      "account length            3333 non-null int64\n",
      "area code                 3333 non-null int64\n",
      "phone number              3333 non-null object\n",
      "international plan        3333 non-null object\n",
      "voice mail plan           3333 non-null object\n",
      "number vmail messages     3333 non-null int64\n",
      "total day minutes         3333 non-null float64\n",
      "total day calls           3333 non-null int64\n",
      "total day charge          3333 non-null float64\n",
      "total eve minutes         3333 non-null float64\n",
      "total eve calls           3333 non-null int64\n",
      "total eve charge          3333 non-null float64\n",
      "total night minutes       3333 non-null float64\n",
      "total night calls         3333 non-null int64\n",
      "total night charge        3333 non-null float64\n",
      "total intl minutes        3333 non-null float64\n",
      "total intl calls          3333 non-null int64\n",
      "total intl charge         3333 non-null float64\n",
      "customer service calls    3333 non-null int64\n",
      "churn                     3333 non-null bool\n",
      "dtypes: bool(1), float64(8), int64(8), object(4)\n",
      "memory usage: 524.1+ KB\n"
     ]
    }
   ],
   "source": [
    "#Find the types of data in the set\n",
    "\n",
    "df.info()"
   ]
  },
  {
   "cell_type": "code",
   "execution_count": 122,
   "metadata": {},
   "outputs": [
    {
     "data": {
      "text/plain": [
       "state                     0\n",
       "account length            0\n",
       "area code                 0\n",
       "phone number              0\n",
       "international plan        0\n",
       "voice mail plan           0\n",
       "number vmail messages     0\n",
       "total day minutes         0\n",
       "total day calls           0\n",
       "total day charge          0\n",
       "total eve minutes         0\n",
       "total eve calls           0\n",
       "total eve charge          0\n",
       "total night minutes       0\n",
       "total night calls         0\n",
       "total night charge        0\n",
       "total intl minutes        0\n",
       "total intl calls          0\n",
       "total intl charge         0\n",
       "customer service calls    0\n",
       "churn                     0\n",
       "dtype: int64"
      ]
     },
     "execution_count": 122,
     "metadata": {},
     "output_type": "execute_result"
    }
   ],
   "source": [
    "#Investigate the dataset for missing values\n",
    "\n",
    "df.isna().sum()"
   ]
  },
  {
   "cell_type": "code",
   "execution_count": 123,
   "metadata": {},
   "outputs": [
    {
     "data": {
      "text/plain": [
       "state                      object\n",
       "account length              int64\n",
       "area code                   int64\n",
       "phone number               object\n",
       "international plan         object\n",
       "voice mail plan            object\n",
       "number vmail messages       int64\n",
       "total day minutes         float64\n",
       "total day calls             int64\n",
       "total day charge          float64\n",
       "total eve minutes         float64\n",
       "total eve calls             int64\n",
       "total eve charge          float64\n",
       "total night minutes       float64\n",
       "total night calls           int64\n",
       "total night charge        float64\n",
       "total intl minutes        float64\n",
       "total intl calls            int64\n",
       "total intl charge         float64\n",
       "customer service calls      int64\n",
       "churn                        bool\n",
       "dtype: object"
      ]
     },
     "execution_count": 123,
     "metadata": {},
     "output_type": "execute_result"
    }
   ],
   "source": [
    "df.dtypes"
   ]
  },
  {
   "cell_type": "code",
   "execution_count": 124,
   "metadata": {},
   "outputs": [],
   "source": [
    "#The state and customer number columns are unecessary so we will remove those ones\n",
    "\n",
    "df.drop(columns=['state', 'phone number'], inplace=True, axis=1)"
   ]
  },
  {
   "cell_type": "markdown",
   "metadata": {},
   "source": [
    "## Visualisations"
   ]
  },
  {
   "cell_type": "code",
   "execution_count": 125,
   "metadata": {},
   "outputs": [
    {
     "data": {
      "image/png": "[encoded data removed]",
      "text/plain": [
       "<Figure size 432x288 with 1 Axes>"
      ]
     },
     "metadata": {},
     "output_type": "display_data"
    },
    {
     "name": "stdout",
     "output_type": "stream",
     "text": [
      "False    2850\n",
      "True      483\n",
      "Name: churn, dtype: int64\n"
     ]
    }
   ],
   "source": [
    "#Produce a pie chart visualisation to establish the percentage of churners in the dataset\n",
    "\n",
    "sizes = df['churn'].value_counts(sort=True)\n",
    "\n",
    "colors = [\"red\", \"blue\"]\n",
    "labels = 'False', 'True'\n",
    "explode = (0,0.1)\n",
    "plt.pie(sizes, explode=explode, labels=labels, autopct='%1.1f%%', colors=colors, shadow=True, startangle=90)\n",
    "plt.title('Percentage of Churn in Customer Data')\n",
    "plt.show()\n",
    "\n",
    "print(sizes)"
   ]
  },
  {
   "cell_type": "markdown",
   "metadata": {},
   "source": [
    "Having seen the percentage of true churns in the dataset it would now be helpful to produce a heatmap and identify the useful variables "
   ]
  },
  {
   "cell_type": "code",
   "execution_count": 126,
   "metadata": {},
   "outputs": [
    {
     "name": "stdout",
     "output_type": "stream",
     "text": [
      "account length              int64\n",
      "area code                   int64\n",
      "international plan          int64\n",
      "voice mail plan             int64\n",
      "number vmail messages       int64\n",
      "total day minutes         float64\n",
      "total day calls             int64\n",
      "total day charge          float64\n",
      "total eve minutes         float64\n",
      "total eve calls             int64\n",
      "total eve charge          float64\n",
      "total night minutes       float64\n",
      "total night calls           int64\n",
      "total night charge        float64\n",
      "total intl minutes        float64\n",
      "total intl calls            int64\n",
      "total intl charge         float64\n",
      "customer service calls      int64\n",
      "churn                        bool\n",
      "dtype: object\n"
     ]
    }
   ],
   "source": [
    "#Convert the categorical data into numerical data\n",
    "#International plan and voice mail plan\n",
    "\n",
    "from sklearn import preprocessing\n",
    "label_encoder = preprocessing.LabelEncoder()\n",
    "\n",
    "df['international plan'] = label_encoder.fit_transform(df['international plan'])\n",
    "df['voice mail plan'] = label_encoder.fit_transform(df['voice mail plan'])\n",
    "\n",
    "\n",
    "print (df.dtypes)"
   ]
  },
  {
   "cell_type": "code",
   "execution_count": 127,
   "metadata": {},
   "outputs": [],
   "source": [
    "#Convert the bools of churn into integers\n",
    "\n",
    "df['churn'] = df['churn'].astype(int)"
   ]
  },
  {
   "cell_type": "code",
   "execution_count": 128,
   "metadata": {},
   "outputs": [
    {
     "data": {
      "text/plain": [
       "account length              int64\n",
       "area code                   int64\n",
       "international plan          int64\n",
       "voice mail plan             int64\n",
       "number vmail messages       int64\n",
       "total day minutes         float64\n",
       "total day calls             int64\n",
       "total day charge          float64\n",
       "total eve minutes         float64\n",
       "total eve calls             int64\n",
       "total eve charge          float64\n",
       "total night minutes       float64\n",
       "total night calls           int64\n",
       "total night charge        float64\n",
       "total intl minutes        float64\n",
       "total intl calls            int64\n",
       "total intl charge         float64\n",
       "customer service calls      int64\n",
       "churn                       int64\n",
       "dtype: object"
      ]
     },
     "execution_count": 128,
     "metadata": {},
     "output_type": "execute_result"
    }
   ],
   "source": [
    "#Check to see if the dtype of int has been converted\n",
    "\n",
    "df.dtypes"
   ]
  },
  {
   "cell_type": "markdown",
   "metadata": {},
   "source": [
    "# Baseline Model"
   ]
  },
  {
   "cell_type": "markdown",
   "metadata": {},
   "source": [
    "## Logistic Regression"
   ]
  },
  {
   "cell_type": "markdown",
   "metadata": {},
   "source": [
    "Now I will declare my variables. My target variable (churn) and my predictors are (X)"
   ]
  },
  {
   "cell_type": "code",
   "execution_count": 129,
   "metadata": {},
   "outputs": [
    {
     "data": {
      "text/html": [
       "<div>\n",
       "<style scoped>\n",
       "    .dataframe tbody tr th:only-of-type {\n",
       "        vertical-align: middle;\n",
       "    }\n",
       "\n",
       "    .dataframe tbody tr th {\n",
       "        vertical-align: top;\n",
       "    }\n",
       "\n",
       "    .dataframe thead th {\n",
       "        text-align: right;\n",
       "    }\n",
       "</style>\n",
       "<table border=\"1\" class=\"dataframe\">\n",
       "  <thead>\n",
       "    <tr style=\"text-align: right;\">\n",
       "      <th></th>\n",
       "      <th>account length</th>\n",
       "      <th>area code</th>\n",
       "      <th>international plan</th>\n",
       "      <th>voice mail plan</th>\n",
       "      <th>number vmail messages</th>\n",
       "      <th>total day minutes</th>\n",
       "      <th>total day calls</th>\n",
       "      <th>total day charge</th>\n",
       "      <th>total eve minutes</th>\n",
       "      <th>total eve calls</th>\n",
       "      <th>total eve charge</th>\n",
       "      <th>total night minutes</th>\n",
       "      <th>total night calls</th>\n",
       "      <th>total night charge</th>\n",
       "      <th>total intl minutes</th>\n",
       "      <th>total intl calls</th>\n",
       "      <th>total intl charge</th>\n",
       "      <th>customer service calls</th>\n",
       "    </tr>\n",
       "  </thead>\n",
       "  <tbody>\n",
       "    <tr>\n",
       "      <th>0</th>\n",
       "      <td>128</td>\n",
       "      <td>415</td>\n",
       "      <td>0</td>\n",
       "      <td>1</td>\n",
       "      <td>25</td>\n",
       "      <td>265.1</td>\n",
       "      <td>110</td>\n",
       "      <td>45.07</td>\n",
       "      <td>197.4</td>\n",
       "      <td>99</td>\n",
       "      <td>16.78</td>\n",
       "      <td>244.7</td>\n",
       "      <td>91</td>\n",
       "      <td>11.01</td>\n",
       "      <td>10.0</td>\n",
       "      <td>3</td>\n",
       "      <td>2.70</td>\n",
       "      <td>1</td>\n",
       "    </tr>\n",
       "    <tr>\n",
       "      <th>1</th>\n",
       "      <td>107</td>\n",
       "      <td>415</td>\n",
       "      <td>0</td>\n",
       "      <td>1</td>\n",
       "      <td>26</td>\n",
       "      <td>161.6</td>\n",
       "      <td>123</td>\n",
       "      <td>27.47</td>\n",
       "      <td>195.5</td>\n",
       "      <td>103</td>\n",
       "      <td>16.62</td>\n",
       "      <td>254.4</td>\n",
       "      <td>103</td>\n",
       "      <td>11.45</td>\n",
       "      <td>13.7</td>\n",
       "      <td>3</td>\n",
       "      <td>3.70</td>\n",
       "      <td>1</td>\n",
       "    </tr>\n",
       "    <tr>\n",
       "      <th>2</th>\n",
       "      <td>137</td>\n",
       "      <td>415</td>\n",
       "      <td>0</td>\n",
       "      <td>0</td>\n",
       "      <td>0</td>\n",
       "      <td>243.4</td>\n",
       "      <td>114</td>\n",
       "      <td>41.38</td>\n",
       "      <td>121.2</td>\n",
       "      <td>110</td>\n",
       "      <td>10.30</td>\n",
       "      <td>162.6</td>\n",
       "      <td>104</td>\n",
       "      <td>7.32</td>\n",
       "      <td>12.2</td>\n",
       "      <td>5</td>\n",
       "      <td>3.29</td>\n",
       "      <td>0</td>\n",
       "    </tr>\n",
       "    <tr>\n",
       "      <th>3</th>\n",
       "      <td>84</td>\n",
       "      <td>408</td>\n",
       "      <td>1</td>\n",
       "      <td>0</td>\n",
       "      <td>0</td>\n",
       "      <td>299.4</td>\n",
       "      <td>71</td>\n",
       "      <td>50.90</td>\n",
       "      <td>61.9</td>\n",
       "      <td>88</td>\n",
       "      <td>5.26</td>\n",
       "      <td>196.9</td>\n",
       "      <td>89</td>\n",
       "      <td>8.86</td>\n",
       "      <td>6.6</td>\n",
       "      <td>7</td>\n",
       "      <td>1.78</td>\n",
       "      <td>2</td>\n",
       "    </tr>\n",
       "    <tr>\n",
       "      <th>4</th>\n",
       "      <td>75</td>\n",
       "      <td>415</td>\n",
       "      <td>1</td>\n",
       "      <td>0</td>\n",
       "      <td>0</td>\n",
       "      <td>166.7</td>\n",
       "      <td>113</td>\n",
       "      <td>28.34</td>\n",
       "      <td>148.3</td>\n",
       "      <td>122</td>\n",
       "      <td>12.61</td>\n",
       "      <td>186.9</td>\n",
       "      <td>121</td>\n",
       "      <td>8.41</td>\n",
       "      <td>10.1</td>\n",
       "      <td>3</td>\n",
       "      <td>2.73</td>\n",
       "      <td>3</td>\n",
       "    </tr>\n",
       "  </tbody>\n",
       "</table>\n",
       "</div>"
      ],
      "text/plain": [
       "   account length  area code  international plan  voice mail plan  \\\n",
       "0             128        415                   0                1   \n",
       "1             107        415                   0                1   \n",
       "2             137        415                   0                0   \n",
       "3              84        408                   1                0   \n",
       "4              75        415                   1                0   \n",
       "\n",
       "   number vmail messages  total day minutes  total day calls  \\\n",
       "0                     25              265.1              110   \n",
       "1                     26              161.6              123   \n",
       "2                      0              243.4              114   \n",
       "3                      0              299.4               71   \n",
       "4                      0              166.7              113   \n",
       "\n",
       "   total day charge  total eve minutes  total eve calls  total eve charge  \\\n",
       "0             45.07              197.4               99             16.78   \n",
       "1             27.47              195.5              103             16.62   \n",
       "2             41.38              121.2              110             10.30   \n",
       "3             50.90               61.9               88              5.26   \n",
       "4             28.34              148.3              122             12.61   \n",
       "\n",
       "   total night minutes  total night calls  total night charge  \\\n",
       "0                244.7                 91               11.01   \n",
       "1                254.4                103               11.45   \n",
       "2                162.6                104                7.32   \n",
       "3                196.9                 89                8.86   \n",
       "4                186.9                121                8.41   \n",
       "\n",
       "   total intl minutes  total intl calls  total intl charge  \\\n",
       "0                10.0                 3               2.70   \n",
       "1                13.7                 3               3.70   \n",
       "2                12.2                 5               3.29   \n",
       "3                 6.6                 7               1.78   \n",
       "4                10.1                 3               2.73   \n",
       "\n",
       "   customer service calls  \n",
       "0                       1  \n",
       "1                       1  \n",
       "2                       0  \n",
       "3                       2  \n",
       "4                       3  "
      ]
     },
     "execution_count": 129,
     "metadata": {},
     "output_type": "execute_result"
    }
   ],
   "source": [
    "X = df.drop('churn', axis=1)\n",
    "y = df['churn']\n",
    "X.head()"
   ]
  },
  {
   "cell_type": "code",
   "execution_count": 130,
   "metadata": {},
   "outputs": [],
   "source": [
    "#Split the data into train and test datasets\n",
    "\n",
    "X_train, X_test, y_train, y_test = train_test_split(X, y, test_size=0.2, random_state=44)"
   ]
  },
  {
   "cell_type": "code",
   "execution_count": 131,
   "metadata": {},
   "outputs": [],
   "source": [
    "#Splitting the data into train and validation datasets\n",
    "\n",
    "X_train_v, X_val, y_train_v, y_val = train_test_split(X_train, y_train, test_size=0.2, random_state=52)"
   ]
  },
  {
   "cell_type": "code",
   "execution_count": 132,
   "metadata": {},
   "outputs": [],
   "source": [
    "#Scale the 3 datasets \n",
    "\n",
    "ss = StandardScaler()\n",
    "\n",
    "ss.fit(X_train_v) #Fit scaler only on training data\n",
    "\n",
    "X_train_v = ss.transform(X_train_v)\n",
    "X_val = ss.transform(X_val)\n",
    "\n",
    "X_test = ss.transform(X_test)"
   ]
  },
  {
   "cell_type": "code",
   "execution_count": 133,
   "metadata": {
    "scrolled": true
   },
   "outputs": [
    {
     "data": {
      "text/plain": [
       "LogisticRegression(C=1000000000000.0, class_weight=None, dual=False,\n",
       "                   fit_intercept=True, intercept_scaling=1, l1_ratio=None,\n",
       "                   max_iter=100, multi_class='auto', n_jobs=None, penalty='l2',\n",
       "                   random_state=None, solver='liblinear', tol=0.0001, verbose=0,\n",
       "                   warm_start=False)"
      ]
     },
     "execution_count": 133,
     "metadata": {},
     "output_type": "execute_result"
    }
   ],
   "source": [
    "logreg = LogisticRegression(fit_intercept=True, C=1e12, solver='liblinear')\n",
    "model_log = logreg.fit(X_train_v, y_train_v)\n",
    "model_log"
   ]
  },
  {
   "cell_type": "code",
   "execution_count": 134,
   "metadata": {},
   "outputs": [],
   "source": [
    "y_train_pred = model_log.predict_proba(X_train_v)[:,1]"
   ]
  },
  {
   "cell_type": "code",
   "execution_count": 135,
   "metadata": {},
   "outputs": [
    {
     "data": {
      "text/plain": [
       "0.8574108818011257"
      ]
     },
     "execution_count": 135,
     "metadata": {},
     "output_type": "execute_result"
    }
   ],
   "source": [
    "model_log.score(X_train_v,y_train_v)"
   ]
  },
  {
   "cell_type": "code",
   "execution_count": 136,
   "metadata": {},
   "outputs": [
    {
     "data": {
      "text/plain": [
       "0.8782771535580525"
      ]
     },
     "execution_count": 136,
     "metadata": {},
     "output_type": "execute_result"
    }
   ],
   "source": [
    "#Creating the score for the validation dataset\n",
    "\n",
    "model_log.score(X_val, y_val)"
   ]
  },
  {
   "cell_type": "markdown",
   "metadata": {},
   "source": [
    "### Measuring the accuracy and ROC_AUC"
   ]
  },
  {
   "cell_type": "markdown",
   "metadata": {},
   "source": [
    "Train"
   ]
  },
  {
   "cell_type": "code",
   "execution_count": 141,
   "metadata": {},
   "outputs": [
    {
     "name": "stdout",
     "output_type": "stream",
     "text": [
      "ROC_AUC of model = 0.821474430833826\n"
     ]
    }
   ],
   "source": [
    "# print(\"Accuracy of model =\", accuracy_score(y_train_v, y_train_pred))  #If I want to do this I will have to convert the probabilities (y_train_pred) into actual outcomes of 0s and 1s\n",
    "\n",
    "print(\"ROC_AUC of model =\", roc_auc_score(y_train_v, y_train_pred))"
   ]
  },
  {
   "cell_type": "markdown",
   "metadata": {},
   "source": [
    "Validation"
   ]
  },
  {
   "cell_type": "code",
   "execution_count": 142,
   "metadata": {},
   "outputs": [
    {
     "name": "stdout",
     "output_type": "stream",
     "text": [
      "ROC_AUC of model = 0.6566003616636528\n"
     ]
    }
   ],
   "source": [
    "y_val_pred = model_log.predict(X_val)\n",
    "\n",
    "# print(\"Accuracy of model =\", accuracy_score(y_val, y_val_pred))\n",
    "\n",
    "print(\"ROC_AUC of model =\", roc_auc_score(y_val, y_val_pred))"
   ]
  },
  {
   "cell_type": "markdown",
   "metadata": {},
   "source": [
    "# Decision Tree"
   ]
  },
  {
   "cell_type": "code",
   "execution_count": 147,
   "metadata": {},
   "outputs": [
    {
     "data": {
      "text/plain": [
       "DecisionTreeClassifier(ccp_alpha=0.0, class_weight='balanced', criterion='gini',\n",
       "                       max_depth=2, max_features=None, max_leaf_nodes=None,\n",
       "                       min_impurity_decrease=0.0, min_impurity_split=None,\n",
       "                       min_samples_leaf=10, min_samples_split=2,\n",
       "                       min_weight_fraction_leaf=0.0, presort='deprecated',\n",
       "                       random_state=100, splitter='best')"
      ]
     },
     "execution_count": 147,
     "metadata": {},
     "output_type": "execute_result"
    }
   ],
   "source": [
    "model_dt = DecisionTreeClassifier(criterion='gini',max_depth=2, min_samples_leaf=10, \n",
    "                               random_state=100, class_weight=\"balanced\")\n",
    "\n",
    "model_dt.fit(X_train_v, y_train_v)"
   ]
  },
  {
   "cell_type": "markdown",
   "metadata": {},
   "source": [
    "Train Score"
   ]
  },
  {
   "cell_type": "code",
   "execution_count": 150,
   "metadata": {
    "scrolled": true
   },
   "outputs": [
    {
     "name": "stdout",
     "output_type": "stream",
     "text": [
      "ROC_AUC of model = 0.7944190802301803\n"
     ]
    }
   ],
   "source": [
    "y_train_pred = model_dt.predict_proba(X_train_v)[:,1]\n",
    "\n",
    "print(\"ROC_AUC of model =\", roc_auc_score(y_train_v, y_train_pred))"
   ]
  },
  {
   "cell_type": "markdown",
   "metadata": {},
   "source": [
    "Validation Score"
   ]
  },
  {
   "cell_type": "code",
   "execution_count": 151,
   "metadata": {},
   "outputs": [
    {
     "name": "stdout",
     "output_type": "stream",
     "text": [
      "ROC_AUC of model = 0.73645847823063\n"
     ]
    }
   ],
   "source": [
    "y_val_pred = model_dt.predict(X_val)\n",
    "\n",
    "print(\"ROC_AUC of model =\", roc_auc_score(y_val, y_val_pred))"
   ]
  },
  {
   "cell_type": "markdown",
   "metadata": {},
   "source": [
    "### Decision Tree Tuning"
   ]
  },
  {
   "cell_type": "code",
   "execution_count": 155,
   "metadata": {},
   "outputs": [
    {
     "name": "stderr",
     "output_type": "stream",
     "text": [
      "/Users/user/opt/anaconda3/envs/learn-env/lib/python3.6/site-packages/sklearn/model_selection/_split.py:296: FutureWarning: Setting a random_state has no effect since shuffle is False. This will raise an error in 0.24. You should leave random_state to its default (None), or set shuffle=True.\n",
      "  FutureWarning\n"
     ]
    },
    {
     "data": {
      "text/plain": [
       "GridSearchCV(cv=StratifiedKFold(n_splits=3, random_state=110, shuffle=False),\n",
       "             error_score=nan,\n",
       "             estimator=DecisionTreeClassifier(ccp_alpha=0.0,\n",
       "                                              class_weight='balanced',\n",
       "                                              criterion='gini', max_depth=2,\n",
       "                                              max_features=None,\n",
       "                                              max_leaf_nodes=None,\n",
       "                                              min_impurity_decrease=0.0,\n",
       "                                              min_impurity_split=None,\n",
       "                                              min_samples_leaf=10,\n",
       "                                              min_samples_split=2,\n",
       "                                              min_weight_fraction_leaf=0.0,\n",
       "                                              presort='deprecated',\n",
       "                                              random_state=100,\n",
       "                                              splitter='best'),\n",
       "             iid='deprecated', n_jobs=None,\n",
       "             param_grid={'max_depth': range(1, 10),\n",
       "                         'min_samples_leaf': [5, 10, 15, 20]},\n",
       "             pre_dispatch='2*n_jobs', refit=True, return_train_score=False,\n",
       "             scoring='roc_auc', verbose=0)"
      ]
     },
     "execution_count": 155,
     "metadata": {},
     "output_type": "execute_result"
    }
   ],
   "source": [
    "### from sklearn.model_selection import GridSearchCV\n",
    "from sklearn.model_selection import StratifiedKFold\n",
    "\n",
    "skf = StratifiedKFold(n_splits=3, random_state=110)\n",
    "ParamGrid = {'max_depth': range(1,10), 'min_samples_leaf': [5,10,15,20]}\n",
    "optimalmodel_dt = GridSearchCV(model, ParamGrid, cv=skf, scoring=\"roc_auc\")\n",
    "optimalmodel_dt.fit(X_train_v, y_train_v)"
   ]
  },
  {
   "cell_type": "code",
   "execution_count": 156,
   "metadata": {},
   "outputs": [
    {
     "name": "stdout",
     "output_type": "stream",
     "text": [
      "Values of the optimised hyperparameters\n",
      " for the best model found:\n",
      " {'max_depth': 5, 'min_samples_leaf': 15}\n"
     ]
    },
    {
     "data": {
      "text/plain": [
       "0.89030832307004"
      ]
     },
     "execution_count": 156,
     "metadata": {},
     "output_type": "execute_result"
    }
   ],
   "source": [
    "print('Values of the optimised hyperparameters\\n for the best model found:\\n',opt_model.best_params_)\n",
    "optimalmodel_dt.best_score_"
   ]
  },
  {
   "cell_type": "code",
   "execution_count": 157,
   "metadata": {
    "scrolled": false
   },
   "outputs": [
    {
     "data": {
      "text/html": [
       "<div>\n",
       "<style scoped>\n",
       "    .dataframe tbody tr th:only-of-type {\n",
       "        vertical-align: middle;\n",
       "    }\n",
       "\n",
       "    .dataframe tbody tr th {\n",
       "        vertical-align: top;\n",
       "    }\n",
       "\n",
       "    .dataframe thead th {\n",
       "        text-align: right;\n",
       "    }\n",
       "</style>\n",
       "<table border=\"1\" class=\"dataframe\">\n",
       "  <thead>\n",
       "    <tr style=\"text-align: right;\">\n",
       "      <th></th>\n",
       "      <th>mean_fit_time</th>\n",
       "      <th>std_fit_time</th>\n",
       "      <th>mean_score_time</th>\n",
       "      <th>std_score_time</th>\n",
       "      <th>param_max_depth</th>\n",
       "      <th>param_min_samples_leaf</th>\n",
       "      <th>params</th>\n",
       "      <th>split0_test_score</th>\n",
       "      <th>split1_test_score</th>\n",
       "      <th>split2_test_score</th>\n",
       "      <th>mean_test_score</th>\n",
       "      <th>std_test_score</th>\n",
       "      <th>rank_test_score</th>\n",
       "    </tr>\n",
       "  </thead>\n",
       "  <tbody>\n",
       "    <tr>\n",
       "      <th>0</th>\n",
       "      <td>0.007544</td>\n",
       "      <td>0.003953</td>\n",
       "      <td>0.002669</td>\n",
       "      <td>0.000597</td>\n",
       "      <td>1</td>\n",
       "      <td>5</td>\n",
       "      <td>{'max_depth': 1, 'min_samples_leaf': 5}</td>\n",
       "      <td>0.596010</td>\n",
       "      <td>0.651170</td>\n",
       "      <td>0.649948</td>\n",
       "      <td>0.632376</td>\n",
       "      <td>0.025719</td>\n",
       "      <td>33</td>\n",
       "    </tr>\n",
       "    <tr>\n",
       "      <th>1</th>\n",
       "      <td>0.008815</td>\n",
       "      <td>0.003259</td>\n",
       "      <td>0.003765</td>\n",
       "      <td>0.002332</td>\n",
       "      <td>1</td>\n",
       "      <td>10</td>\n",
       "      <td>{'max_depth': 1, 'min_samples_leaf': 10}</td>\n",
       "      <td>0.596010</td>\n",
       "      <td>0.651170</td>\n",
       "      <td>0.649948</td>\n",
       "      <td>0.632376</td>\n",
       "      <td>0.025719</td>\n",
       "      <td>33</td>\n",
       "    </tr>\n",
       "    <tr>\n",
       "      <th>2</th>\n",
       "      <td>0.006910</td>\n",
       "      <td>0.002587</td>\n",
       "      <td>0.003838</td>\n",
       "      <td>0.000612</td>\n",
       "      <td>1</td>\n",
       "      <td>15</td>\n",
       "      <td>{'max_depth': 1, 'min_samples_leaf': 15}</td>\n",
       "      <td>0.596010</td>\n",
       "      <td>0.651170</td>\n",
       "      <td>0.649948</td>\n",
       "      <td>0.632376</td>\n",
       "      <td>0.025719</td>\n",
       "      <td>33</td>\n",
       "    </tr>\n",
       "    <tr>\n",
       "      <th>3</th>\n",
       "      <td>0.005629</td>\n",
       "      <td>0.001991</td>\n",
       "      <td>0.003939</td>\n",
       "      <td>0.002369</td>\n",
       "      <td>1</td>\n",
       "      <td>20</td>\n",
       "      <td>{'max_depth': 1, 'min_samples_leaf': 20}</td>\n",
       "      <td>0.596010</td>\n",
       "      <td>0.651170</td>\n",
       "      <td>0.649948</td>\n",
       "      <td>0.632376</td>\n",
       "      <td>0.025719</td>\n",
       "      <td>33</td>\n",
       "    </tr>\n",
       "    <tr>\n",
       "      <th>4</th>\n",
       "      <td>0.005958</td>\n",
       "      <td>0.000642</td>\n",
       "      <td>0.002782</td>\n",
       "      <td>0.000422</td>\n",
       "      <td>2</td>\n",
       "      <td>5</td>\n",
       "      <td>{'max_depth': 2, 'min_samples_leaf': 5}</td>\n",
       "      <td>0.768669</td>\n",
       "      <td>0.818320</td>\n",
       "      <td>0.758583</td>\n",
       "      <td>0.781857</td>\n",
       "      <td>0.026110</td>\n",
       "      <td>29</td>\n",
       "    </tr>\n",
       "    <tr>\n",
       "      <th>5</th>\n",
       "      <td>0.018247</td>\n",
       "      <td>0.010584</td>\n",
       "      <td>0.007525</td>\n",
       "      <td>0.005288</td>\n",
       "      <td>2</td>\n",
       "      <td>10</td>\n",
       "      <td>{'max_depth': 2, 'min_samples_leaf': 10}</td>\n",
       "      <td>0.768669</td>\n",
       "      <td>0.818320</td>\n",
       "      <td>0.758583</td>\n",
       "      <td>0.781857</td>\n",
       "      <td>0.026110</td>\n",
       "      <td>29</td>\n",
       "    </tr>\n",
       "    <tr>\n",
       "      <th>6</th>\n",
       "      <td>0.015990</td>\n",
       "      <td>0.007482</td>\n",
       "      <td>0.005197</td>\n",
       "      <td>0.001682</td>\n",
       "      <td>2</td>\n",
       "      <td>15</td>\n",
       "      <td>{'max_depth': 2, 'min_samples_leaf': 15}</td>\n",
       "      <td>0.768669</td>\n",
       "      <td>0.818320</td>\n",
       "      <td>0.758583</td>\n",
       "      <td>0.781857</td>\n",
       "      <td>0.026110</td>\n",
       "      <td>29</td>\n",
       "    </tr>\n",
       "    <tr>\n",
       "      <th>7</th>\n",
       "      <td>0.006286</td>\n",
       "      <td>0.000831</td>\n",
       "      <td>0.004555</td>\n",
       "      <td>0.002968</td>\n",
       "      <td>2</td>\n",
       "      <td>20</td>\n",
       "      <td>{'max_depth': 2, 'min_samples_leaf': 20}</td>\n",
       "      <td>0.768669</td>\n",
       "      <td>0.818320</td>\n",
       "      <td>0.758583</td>\n",
       "      <td>0.781857</td>\n",
       "      <td>0.026110</td>\n",
       "      <td>29</td>\n",
       "    </tr>\n",
       "    <tr>\n",
       "      <th>8</th>\n",
       "      <td>0.014812</td>\n",
       "      <td>0.007103</td>\n",
       "      <td>0.001907</td>\n",
       "      <td>0.000248</td>\n",
       "      <td>3</td>\n",
       "      <td>5</td>\n",
       "      <td>{'max_depth': 3, 'min_samples_leaf': 5}</td>\n",
       "      <td>0.843534</td>\n",
       "      <td>0.865106</td>\n",
       "      <td>0.816537</td>\n",
       "      <td>0.841726</td>\n",
       "      <td>0.019869</td>\n",
       "      <td>27</td>\n",
       "    </tr>\n",
       "    <tr>\n",
       "      <th>9</th>\n",
       "      <td>0.010073</td>\n",
       "      <td>0.003222</td>\n",
       "      <td>0.004210</td>\n",
       "      <td>0.002728</td>\n",
       "      <td>3</td>\n",
       "      <td>10</td>\n",
       "      <td>{'max_depth': 3, 'min_samples_leaf': 10}</td>\n",
       "      <td>0.840707</td>\n",
       "      <td>0.865106</td>\n",
       "      <td>0.816022</td>\n",
       "      <td>0.840612</td>\n",
       "      <td>0.020038</td>\n",
       "      <td>28</td>\n",
       "    </tr>\n",
       "    <tr>\n",
       "      <th>10</th>\n",
       "      <td>0.006775</td>\n",
       "      <td>0.000743</td>\n",
       "      <td>0.004182</td>\n",
       "      <td>0.002951</td>\n",
       "      <td>3</td>\n",
       "      <td>15</td>\n",
       "      <td>{'max_depth': 3, 'min_samples_leaf': 15}</td>\n",
       "      <td>0.840935</td>\n",
       "      <td>0.873769</td>\n",
       "      <td>0.812354</td>\n",
       "      <td>0.842353</td>\n",
       "      <td>0.025093</td>\n",
       "      <td>26</td>\n",
       "    </tr>\n",
       "    <tr>\n",
       "      <th>11</th>\n",
       "      <td>0.008300</td>\n",
       "      <td>0.002440</td>\n",
       "      <td>0.002390</td>\n",
       "      <td>0.000875</td>\n",
       "      <td>3</td>\n",
       "      <td>20</td>\n",
       "      <td>{'max_depth': 3, 'min_samples_leaf': 20}</td>\n",
       "      <td>0.839290</td>\n",
       "      <td>0.866150</td>\n",
       "      <td>0.827704</td>\n",
       "      <td>0.844381</td>\n",
       "      <td>0.016103</td>\n",
       "      <td>25</td>\n",
       "    </tr>\n",
       "    <tr>\n",
       "      <th>12</th>\n",
       "      <td>0.007348</td>\n",
       "      <td>0.000585</td>\n",
       "      <td>0.001826</td>\n",
       "      <td>0.000382</td>\n",
       "      <td>4</td>\n",
       "      <td>5</td>\n",
       "      <td>{'max_depth': 4, 'min_samples_leaf': 5}</td>\n",
       "      <td>0.860717</td>\n",
       "      <td>0.878265</td>\n",
       "      <td>0.851637</td>\n",
       "      <td>0.863539</td>\n",
       "      <td>0.011053</td>\n",
       "      <td>20</td>\n",
       "    </tr>\n",
       "    <tr>\n",
       "      <th>13</th>\n",
       "      <td>0.006987</td>\n",
       "      <td>0.000334</td>\n",
       "      <td>0.001616</td>\n",
       "      <td>0.000068</td>\n",
       "      <td>4</td>\n",
       "      <td>10</td>\n",
       "      <td>{'max_depth': 4, 'min_samples_leaf': 10}</td>\n",
       "      <td>0.860191</td>\n",
       "      <td>0.882426</td>\n",
       "      <td>0.861780</td>\n",
       "      <td>0.868132</td>\n",
       "      <td>0.010128</td>\n",
       "      <td>17</td>\n",
       "    </tr>\n",
       "    <tr>\n",
       "      <th>14</th>\n",
       "      <td>0.008123</td>\n",
       "      <td>0.000486</td>\n",
       "      <td>0.001696</td>\n",
       "      <td>0.000226</td>\n",
       "      <td>4</td>\n",
       "      <td>15</td>\n",
       "      <td>{'max_depth': 4, 'min_samples_leaf': 15}</td>\n",
       "      <td>0.872413</td>\n",
       "      <td>0.886586</td>\n",
       "      <td>0.876838</td>\n",
       "      <td>0.878612</td>\n",
       "      <td>0.005921</td>\n",
       "      <td>12</td>\n",
       "    </tr>\n",
       "    <tr>\n",
       "      <th>15</th>\n",
       "      <td>0.007621</td>\n",
       "      <td>0.000609</td>\n",
       "      <td>0.001984</td>\n",
       "      <td>0.000582</td>\n",
       "      <td>4</td>\n",
       "      <td>20</td>\n",
       "      <td>{'max_depth': 4, 'min_samples_leaf': 20}</td>\n",
       "      <td>0.867125</td>\n",
       "      <td>0.876535</td>\n",
       "      <td>0.890127</td>\n",
       "      <td>0.877929</td>\n",
       "      <td>0.009442</td>\n",
       "      <td>14</td>\n",
       "    </tr>\n",
       "    <tr>\n",
       "      <th>16</th>\n",
       "      <td>0.008324</td>\n",
       "      <td>0.000648</td>\n",
       "      <td>0.001923</td>\n",
       "      <td>0.000238</td>\n",
       "      <td>5</td>\n",
       "      <td>5</td>\n",
       "      <td>{'max_depth': 5, 'min_samples_leaf': 5}</td>\n",
       "      <td>0.895524</td>\n",
       "      <td>0.834641</td>\n",
       "      <td>0.871086</td>\n",
       "      <td>0.867084</td>\n",
       "      <td>0.025016</td>\n",
       "      <td>18</td>\n",
       "    </tr>\n",
       "    <tr>\n",
       "      <th>17</th>\n",
       "      <td>0.008894</td>\n",
       "      <td>0.001025</td>\n",
       "      <td>0.001700</td>\n",
       "      <td>0.000121</td>\n",
       "      <td>5</td>\n",
       "      <td>10</td>\n",
       "      <td>{'max_depth': 5, 'min_samples_leaf': 10}</td>\n",
       "      <td>0.882326</td>\n",
       "      <td>0.881359</td>\n",
       "      <td>0.882752</td>\n",
       "      <td>0.882146</td>\n",
       "      <td>0.000583</td>\n",
       "      <td>11</td>\n",
       "    </tr>\n",
       "    <tr>\n",
       "      <th>18</th>\n",
       "      <td>0.010120</td>\n",
       "      <td>0.002324</td>\n",
       "      <td>0.002323</td>\n",
       "      <td>0.001114</td>\n",
       "      <td>5</td>\n",
       "      <td>15</td>\n",
       "      <td>{'max_depth': 5, 'min_samples_leaf': 15}</td>\n",
       "      <td>0.880330</td>\n",
       "      <td>0.911434</td>\n",
       "      <td>0.879161</td>\n",
       "      <td>0.890308</td>\n",
       "      <td>0.014946</td>\n",
       "      <td>1</td>\n",
       "    </tr>\n",
       "    <tr>\n",
       "      <th>19</th>\n",
       "      <td>0.007611</td>\n",
       "      <td>0.000313</td>\n",
       "      <td>0.002477</td>\n",
       "      <td>0.001044</td>\n",
       "      <td>5</td>\n",
       "      <td>20</td>\n",
       "      <td>{'max_depth': 5, 'min_samples_leaf': 20}</td>\n",
       "      <td>0.873091</td>\n",
       "      <td>0.888354</td>\n",
       "      <td>0.886636</td>\n",
       "      <td>0.882694</td>\n",
       "      <td>0.006826</td>\n",
       "      <td>9</td>\n",
       "    </tr>\n",
       "    <tr>\n",
       "      <th>20</th>\n",
       "      <td>0.009427</td>\n",
       "      <td>0.000355</td>\n",
       "      <td>0.002122</td>\n",
       "      <td>0.000745</td>\n",
       "      <td>6</td>\n",
       "      <td>5</td>\n",
       "      <td>{'max_depth': 6, 'min_samples_leaf': 5}</td>\n",
       "      <td>0.859513</td>\n",
       "      <td>0.814014</td>\n",
       "      <td>0.868417</td>\n",
       "      <td>0.847315</td>\n",
       "      <td>0.023826</td>\n",
       "      <td>24</td>\n",
       "    </tr>\n",
       "    <tr>\n",
       "      <th>21</th>\n",
       "      <td>0.009514</td>\n",
       "      <td>0.000864</td>\n",
       "      <td>0.001884</td>\n",
       "      <td>0.000327</td>\n",
       "      <td>6</td>\n",
       "      <td>10</td>\n",
       "      <td>{'max_depth': 6, 'min_samples_leaf': 10}</td>\n",
       "      <td>0.857623</td>\n",
       "      <td>0.859017</td>\n",
       "      <td>0.882067</td>\n",
       "      <td>0.866236</td>\n",
       "      <td>0.011209</td>\n",
       "      <td>19</td>\n",
       "    </tr>\n",
       "    <tr>\n",
       "      <th>22</th>\n",
       "      <td>0.014780</td>\n",
       "      <td>0.007842</td>\n",
       "      <td>0.001852</td>\n",
       "      <td>0.000329</td>\n",
       "      <td>6</td>\n",
       "      <td>15</td>\n",
       "      <td>{'max_depth': 6, 'min_samples_leaf': 15}</td>\n",
       "      <td>0.877335</td>\n",
       "      <td>0.899479</td>\n",
       "      <td>0.893226</td>\n",
       "      <td>0.890014</td>\n",
       "      <td>0.009321</td>\n",
       "      <td>2</td>\n",
       "    </tr>\n",
       "    <tr>\n",
       "      <th>23</th>\n",
       "      <td>0.009600</td>\n",
       "      <td>0.001017</td>\n",
       "      <td>0.003293</td>\n",
       "      <td>0.001680</td>\n",
       "      <td>6</td>\n",
       "      <td>20</td>\n",
       "      <td>{'max_depth': 6, 'min_samples_leaf': 20}</td>\n",
       "      <td>0.880262</td>\n",
       "      <td>0.879804</td>\n",
       "      <td>0.899140</td>\n",
       "      <td>0.886402</td>\n",
       "      <td>0.009009</td>\n",
       "      <td>4</td>\n",
       "    </tr>\n",
       "    <tr>\n",
       "      <th>24</th>\n",
       "      <td>0.012627</td>\n",
       "      <td>0.003015</td>\n",
       "      <td>0.001619</td>\n",
       "      <td>0.000032</td>\n",
       "      <td>7</td>\n",
       "      <td>5</td>\n",
       "      <td>{'max_depth': 7, 'min_samples_leaf': 5}</td>\n",
       "      <td>0.840029</td>\n",
       "      <td>0.835708</td>\n",
       "      <td>0.880445</td>\n",
       "      <td>0.852061</td>\n",
       "      <td>0.020148</td>\n",
       "      <td>23</td>\n",
       "    </tr>\n",
       "    <tr>\n",
       "      <th>25</th>\n",
       "      <td>0.010215</td>\n",
       "      <td>0.000622</td>\n",
       "      <td>0.002050</td>\n",
       "      <td>0.000528</td>\n",
       "      <td>7</td>\n",
       "      <td>10</td>\n",
       "      <td>{'max_depth': 7, 'min_samples_leaf': 10}</td>\n",
       "      <td>0.867232</td>\n",
       "      <td>0.857303</td>\n",
       "      <td>0.884236</td>\n",
       "      <td>0.869590</td>\n",
       "      <td>0.011121</td>\n",
       "      <td>16</td>\n",
       "    </tr>\n",
       "    <tr>\n",
       "      <th>26</th>\n",
       "      <td>0.010535</td>\n",
       "      <td>0.001474</td>\n",
       "      <td>0.002865</td>\n",
       "      <td>0.000559</td>\n",
       "      <td>7</td>\n",
       "      <td>15</td>\n",
       "      <td>{'max_depth': 7, 'min_samples_leaf': 15}</td>\n",
       "      <td>0.869563</td>\n",
       "      <td>0.897490</td>\n",
       "      <td>0.891204</td>\n",
       "      <td>0.886086</td>\n",
       "      <td>0.011962</td>\n",
       "      <td>5</td>\n",
       "    </tr>\n",
       "    <tr>\n",
       "      <th>27</th>\n",
       "      <td>0.015081</td>\n",
       "      <td>0.007505</td>\n",
       "      <td>0.002554</td>\n",
       "      <td>0.000708</td>\n",
       "      <td>7</td>\n",
       "      <td>20</td>\n",
       "      <td>{'max_depth': 7, 'min_samples_leaf': 20}</td>\n",
       "      <td>0.881092</td>\n",
       "      <td>0.877008</td>\n",
       "      <td>0.895818</td>\n",
       "      <td>0.884639</td>\n",
       "      <td>0.008078</td>\n",
       "      <td>7</td>\n",
       "    </tr>\n",
       "    <tr>\n",
       "      <th>28</th>\n",
       "      <td>0.010555</td>\n",
       "      <td>0.000401</td>\n",
       "      <td>0.002961</td>\n",
       "      <td>0.000768</td>\n",
       "      <td>8</td>\n",
       "      <td>5</td>\n",
       "      <td>{'max_depth': 8, 'min_samples_leaf': 5}</td>\n",
       "      <td>0.848410</td>\n",
       "      <td>0.837453</td>\n",
       "      <td>0.879153</td>\n",
       "      <td>0.855005</td>\n",
       "      <td>0.017651</td>\n",
       "      <td>22</td>\n",
       "    </tr>\n",
       "    <tr>\n",
       "      <th>29</th>\n",
       "      <td>0.011511</td>\n",
       "      <td>0.001029</td>\n",
       "      <td>0.001808</td>\n",
       "      <td>0.000216</td>\n",
       "      <td>8</td>\n",
       "      <td>10</td>\n",
       "      <td>{'max_depth': 8, 'min_samples_leaf': 10}</td>\n",
       "      <td>0.876825</td>\n",
       "      <td>0.858027</td>\n",
       "      <td>0.890089</td>\n",
       "      <td>0.874980</td>\n",
       "      <td>0.013154</td>\n",
       "      <td>15</td>\n",
       "    </tr>\n",
       "    <tr>\n",
       "      <th>30</th>\n",
       "      <td>0.011677</td>\n",
       "      <td>0.001182</td>\n",
       "      <td>0.002657</td>\n",
       "      <td>0.001376</td>\n",
       "      <td>8</td>\n",
       "      <td>15</td>\n",
       "      <td>{'max_depth': 8, 'min_samples_leaf': 15}</td>\n",
       "      <td>0.865189</td>\n",
       "      <td>0.893459</td>\n",
       "      <td>0.890558</td>\n",
       "      <td>0.883069</td>\n",
       "      <td>0.012698</td>\n",
       "      <td>8</td>\n",
       "    </tr>\n",
       "    <tr>\n",
       "      <th>31</th>\n",
       "      <td>0.010534</td>\n",
       "      <td>0.001156</td>\n",
       "      <td>0.002017</td>\n",
       "      <td>0.000313</td>\n",
       "      <td>8</td>\n",
       "      <td>20</td>\n",
       "      <td>{'max_depth': 8, 'min_samples_leaf': 20}</td>\n",
       "      <td>0.875385</td>\n",
       "      <td>0.880444</td>\n",
       "      <td>0.898902</td>\n",
       "      <td>0.884910</td>\n",
       "      <td>0.010107</td>\n",
       "      <td>6</td>\n",
       "    </tr>\n",
       "    <tr>\n",
       "      <th>32</th>\n",
       "      <td>0.015542</td>\n",
       "      <td>0.001388</td>\n",
       "      <td>0.001764</td>\n",
       "      <td>0.000136</td>\n",
       "      <td>9</td>\n",
       "      <td>5</td>\n",
       "      <td>{'max_depth': 9, 'min_samples_leaf': 5}</td>\n",
       "      <td>0.853036</td>\n",
       "      <td>0.856937</td>\n",
       "      <td>0.877569</td>\n",
       "      <td>0.862514</td>\n",
       "      <td>0.010764</td>\n",
       "      <td>21</td>\n",
       "    </tr>\n",
       "    <tr>\n",
       "      <th>33</th>\n",
       "      <td>0.013878</td>\n",
       "      <td>0.003379</td>\n",
       "      <td>0.002030</td>\n",
       "      <td>0.000559</td>\n",
       "      <td>9</td>\n",
       "      <td>10</td>\n",
       "      <td>{'max_depth': 9, 'min_samples_leaf': 10}</td>\n",
       "      <td>0.879035</td>\n",
       "      <td>0.876452</td>\n",
       "      <td>0.879607</td>\n",
       "      <td>0.878364</td>\n",
       "      <td>0.001372</td>\n",
       "      <td>13</td>\n",
       "    </tr>\n",
       "    <tr>\n",
       "      <th>34</th>\n",
       "      <td>0.010890</td>\n",
       "      <td>0.000512</td>\n",
       "      <td>0.002340</td>\n",
       "      <td>0.000836</td>\n",
       "      <td>9</td>\n",
       "      <td>15</td>\n",
       "      <td>{'max_depth': 9, 'min_samples_leaf': 15}</td>\n",
       "      <td>0.870234</td>\n",
       "      <td>0.906840</td>\n",
       "      <td>0.885513</td>\n",
       "      <td>0.887529</td>\n",
       "      <td>0.015012</td>\n",
       "      <td>3</td>\n",
       "    </tr>\n",
       "    <tr>\n",
       "      <th>35</th>\n",
       "      <td>0.010428</td>\n",
       "      <td>0.000209</td>\n",
       "      <td>0.002184</td>\n",
       "      <td>0.000296</td>\n",
       "      <td>9</td>\n",
       "      <td>20</td>\n",
       "      <td>{'max_depth': 9, 'min_samples_leaf': 20}</td>\n",
       "      <td>0.872116</td>\n",
       "      <td>0.887759</td>\n",
       "      <td>0.888035</td>\n",
       "      <td>0.882637</td>\n",
       "      <td>0.007440</td>\n",
       "      <td>10</td>\n",
       "    </tr>\n",
       "  </tbody>\n",
       "</table>\n",
       "</div>"
      ],
      "text/plain": [
       "    mean_fit_time  std_fit_time  mean_score_time  std_score_time  \\\n",
       "0        0.007544      0.003953         0.002669        0.000597   \n",
       "1        0.008815      0.003259         0.003765        0.002332   \n",
       "2        0.006910      0.002587         0.003838        0.000612   \n",
       "3        0.005629      0.001991         0.003939        0.002369   \n",
       "4        0.005958      0.000642         0.002782        0.000422   \n",
       "5        0.018247      0.010584         0.007525        0.005288   \n",
       "6        0.015990      0.007482         0.005197        0.001682   \n",
       "7        0.006286      0.000831         0.004555        0.002968   \n",
       "8        0.014812      0.007103         0.001907        0.000248   \n",
       "9        0.010073      0.003222         0.004210        0.002728   \n",
       "10       0.006775      0.000743         0.004182        0.002951   \n",
       "11       0.008300      0.002440         0.002390        0.000875   \n",
       "12       0.007348      0.000585         0.001826        0.000382   \n",
       "13       0.006987      0.000334         0.001616        0.000068   \n",
       "14       0.008123      0.000486         0.001696        0.000226   \n",
       "15       0.007621      0.000609         0.001984        0.000582   \n",
       "16       0.008324      0.000648         0.001923        0.000238   \n",
       "17       0.008894      0.001025         0.001700        0.000121   \n",
       "18       0.010120      0.002324         0.002323        0.001114   \n",
       "19       0.007611      0.000313         0.002477        0.001044   \n",
       "20       0.009427      0.000355         0.002122        0.000745   \n",
       "21       0.009514      0.000864         0.001884        0.000327   \n",
       "22       0.014780      0.007842         0.001852        0.000329   \n",
       "23       0.009600      0.001017         0.003293        0.001680   \n",
       "24       0.012627      0.003015         0.001619        0.000032   \n",
       "25       0.010215      0.000622         0.002050        0.000528   \n",
       "26       0.010535      0.001474         0.002865        0.000559   \n",
       "27       0.015081      0.007505         0.002554        0.000708   \n",
       "28       0.010555      0.000401         0.002961        0.000768   \n",
       "29       0.011511      0.001029         0.001808        0.000216   \n",
       "30       0.011677      0.001182         0.002657        0.001376   \n",
       "31       0.010534      0.001156         0.002017        0.000313   \n",
       "32       0.015542      0.001388         0.001764        0.000136   \n",
       "33       0.013878      0.003379         0.002030        0.000559   \n",
       "34       0.010890      0.000512         0.002340        0.000836   \n",
       "35       0.010428      0.000209         0.002184        0.000296   \n",
       "\n",
       "   param_max_depth param_min_samples_leaf  \\\n",
       "0                1                      5   \n",
       "1                1                     10   \n",
       "2                1                     15   \n",
       "3                1                     20   \n",
       "4                2                      5   \n",
       "5                2                     10   \n",
       "6                2                     15   \n",
       "7                2                     20   \n",
       "8                3                      5   \n",
       "9                3                     10   \n",
       "10               3                     15   \n",
       "11               3                     20   \n",
       "12               4                      5   \n",
       "13               4                     10   \n",
       "14               4                     15   \n",
       "15               4                     20   \n",
       "16               5                      5   \n",
       "17               5                     10   \n",
       "18               5                     15   \n",
       "19               5                     20   \n",
       "20               6                      5   \n",
       "21               6                     10   \n",
       "22               6                     15   \n",
       "23               6                     20   \n",
       "24               7                      5   \n",
       "25               7                     10   \n",
       "26               7                     15   \n",
       "27               7                     20   \n",
       "28               8                      5   \n",
       "29               8                     10   \n",
       "30               8                     15   \n",
       "31               8                     20   \n",
       "32               9                      5   \n",
       "33               9                     10   \n",
       "34               9                     15   \n",
       "35               9                     20   \n",
       "\n",
       "                                      params  split0_test_score  \\\n",
       "0    {'max_depth': 1, 'min_samples_leaf': 5}           0.596010   \n",
       "1   {'max_depth': 1, 'min_samples_leaf': 10}           0.596010   \n",
       "2   {'max_depth': 1, 'min_samples_leaf': 15}           0.596010   \n",
       "3   {'max_depth': 1, 'min_samples_leaf': 20}           0.596010   \n",
       "4    {'max_depth': 2, 'min_samples_leaf': 5}           0.768669   \n",
       "5   {'max_depth': 2, 'min_samples_leaf': 10}           0.768669   \n",
       "6   {'max_depth': 2, 'min_samples_leaf': 15}           0.768669   \n",
       "7   {'max_depth': 2, 'min_samples_leaf': 20}           0.768669   \n",
       "8    {'max_depth': 3, 'min_samples_leaf': 5}           0.843534   \n",
       "9   {'max_depth': 3, 'min_samples_leaf': 10}           0.840707   \n",
       "10  {'max_depth': 3, 'min_samples_leaf': 15}           0.840935   \n",
       "11  {'max_depth': 3, 'min_samples_leaf': 20}           0.839290   \n",
       "12   {'max_depth': 4, 'min_samples_leaf': 5}           0.860717   \n",
       "13  {'max_depth': 4, 'min_samples_leaf': 10}           0.860191   \n",
       "14  {'max_depth': 4, 'min_samples_leaf': 15}           0.872413   \n",
       "15  {'max_depth': 4, 'min_samples_leaf': 20}           0.867125   \n",
       "16   {'max_depth': 5, 'min_samples_leaf': 5}           0.895524   \n",
       "17  {'max_depth': 5, 'min_samples_leaf': 10}           0.882326   \n",
       "18  {'max_depth': 5, 'min_samples_leaf': 15}           0.880330   \n",
       "19  {'max_depth': 5, 'min_samples_leaf': 20}           0.873091   \n",
       "20   {'max_depth': 6, 'min_samples_leaf': 5}           0.859513   \n",
       "21  {'max_depth': 6, 'min_samples_leaf': 10}           0.857623   \n",
       "22  {'max_depth': 6, 'min_samples_leaf': 15}           0.877335   \n",
       "23  {'max_depth': 6, 'min_samples_leaf': 20}           0.880262   \n",
       "24   {'max_depth': 7, 'min_samples_leaf': 5}           0.840029   \n",
       "25  {'max_depth': 7, 'min_samples_leaf': 10}           0.867232   \n",
       "26  {'max_depth': 7, 'min_samples_leaf': 15}           0.869563   \n",
       "27  {'max_depth': 7, 'min_samples_leaf': 20}           0.881092   \n",
       "28   {'max_depth': 8, 'min_samples_leaf': 5}           0.848410   \n",
       "29  {'max_depth': 8, 'min_samples_leaf': 10}           0.876825   \n",
       "30  {'max_depth': 8, 'min_samples_leaf': 15}           0.865189   \n",
       "31  {'max_depth': 8, 'min_samples_leaf': 20}           0.875385   \n",
       "32   {'max_depth': 9, 'min_samples_leaf': 5}           0.853036   \n",
       "33  {'max_depth': 9, 'min_samples_leaf': 10}           0.879035   \n",
       "34  {'max_depth': 9, 'min_samples_leaf': 15}           0.870234   \n",
       "35  {'max_depth': 9, 'min_samples_leaf': 20}           0.872116   \n",
       "\n",
       "    split1_test_score  split2_test_score  mean_test_score  std_test_score  \\\n",
       "0            0.651170           0.649948         0.632376        0.025719   \n",
       "1            0.651170           0.649948         0.632376        0.025719   \n",
       "2            0.651170           0.649948         0.632376        0.025719   \n",
       "3            0.651170           0.649948         0.632376        0.025719   \n",
       "4            0.818320           0.758583         0.781857        0.026110   \n",
       "5            0.818320           0.758583         0.781857        0.026110   \n",
       "6            0.818320           0.758583         0.781857        0.026110   \n",
       "7            0.818320           0.758583         0.781857        0.026110   \n",
       "8            0.865106           0.816537         0.841726        0.019869   \n",
       "9            0.865106           0.816022         0.840612        0.020038   \n",
       "10           0.873769           0.812354         0.842353        0.025093   \n",
       "11           0.866150           0.827704         0.844381        0.016103   \n",
       "12           0.878265           0.851637         0.863539        0.011053   \n",
       "13           0.882426           0.861780         0.868132        0.010128   \n",
       "14           0.886586           0.876838         0.878612        0.005921   \n",
       "15           0.876535           0.890127         0.877929        0.009442   \n",
       "16           0.834641           0.871086         0.867084        0.025016   \n",
       "17           0.881359           0.882752         0.882146        0.000583   \n",
       "18           0.911434           0.879161         0.890308        0.014946   \n",
       "19           0.888354           0.886636         0.882694        0.006826   \n",
       "20           0.814014           0.868417         0.847315        0.023826   \n",
       "21           0.859017           0.882067         0.866236        0.011209   \n",
       "22           0.899479           0.893226         0.890014        0.009321   \n",
       "23           0.879804           0.899140         0.886402        0.009009   \n",
       "24           0.835708           0.880445         0.852061        0.020148   \n",
       "25           0.857303           0.884236         0.869590        0.011121   \n",
       "26           0.897490           0.891204         0.886086        0.011962   \n",
       "27           0.877008           0.895818         0.884639        0.008078   \n",
       "28           0.837453           0.879153         0.855005        0.017651   \n",
       "29           0.858027           0.890089         0.874980        0.013154   \n",
       "30           0.893459           0.890558         0.883069        0.012698   \n",
       "31           0.880444           0.898902         0.884910        0.010107   \n",
       "32           0.856937           0.877569         0.862514        0.010764   \n",
       "33           0.876452           0.879607         0.878364        0.001372   \n",
       "34           0.906840           0.885513         0.887529        0.015012   \n",
       "35           0.887759           0.888035         0.882637        0.007440   \n",
       "\n",
       "    rank_test_score  \n",
       "0                33  \n",
       "1                33  \n",
       "2                33  \n",
       "3                33  \n",
       "4                29  \n",
       "5                29  \n",
       "6                29  \n",
       "7                29  \n",
       "8                27  \n",
       "9                28  \n",
       "10               26  \n",
       "11               25  \n",
       "12               20  \n",
       "13               17  \n",
       "14               12  \n",
       "15               14  \n",
       "16               18  \n",
       "17               11  \n",
       "18                1  \n",
       "19                9  \n",
       "20               24  \n",
       "21               19  \n",
       "22                2  \n",
       "23                4  \n",
       "24               23  \n",
       "25               16  \n",
       "26                5  \n",
       "27                7  \n",
       "28               22  \n",
       "29               15  \n",
       "30                8  \n",
       "31                6  \n",
       "32               21  \n",
       "33               13  \n",
       "34                3  \n",
       "35               10  "
      ]
     },
     "execution_count": 157,
     "metadata": {},
     "output_type": "execute_result"
    }
   ],
   "source": [
    "pd.DataFrame(opt_model.cv_results_)"
   ]
  },
  {
   "cell_type": "markdown",
   "metadata": {},
   "source": [
    "Train Score"
   ]
  },
  {
   "cell_type": "code",
   "execution_count": 158,
   "metadata": {
    "scrolled": true
   },
   "outputs": [
    {
     "name": "stdout",
     "output_type": "stream",
     "text": [
      "ROC_AUC of model = 0.9369857801873782\n"
     ]
    }
   ],
   "source": [
    "y_train_pred = optimalmodel_dt.predict_proba(X_train_v)[:,1]\n",
    "\n",
    "print(\"ROC_AUC of model =\", roc_auc_score(y_train_v, y_train_pred))"
   ]
  },
  {
   "cell_type": "markdown",
   "metadata": {},
   "source": [
    "Validation Score"
   ]
  },
  {
   "cell_type": "code",
   "execution_count": 159,
   "metadata": {},
   "outputs": [
    {
     "name": "stdout",
     "output_type": "stream",
     "text": [
      "ROC_AUC of model = 0.8847544860203088\n"
     ]
    }
   ],
   "source": [
    "y_val_pred = optimalmodel_dt.predict(X_val)\n",
    "\n",
    "print(\"ROC_AUC of model =\", roc_auc_score(y_val, y_val_pred))"
   ]
  },
  {
   "cell_type": "markdown",
   "metadata": {},
   "source": [
    "# XG Boost"
   ]
  },
  {
   "cell_type": "code",
   "execution_count": 163,
   "metadata": {},
   "outputs": [
    {
     "data": {
      "text/plain": [
       "XGBClassifier(base_score=0.5, booster='gbtree', colsample_bylevel=1,\n",
       "              colsample_bytree=1, gamma=0, learning_rate=0.1, max_delta_step=0,\n",
       "              max_depth=3, min_child_weight=1, missing=None, n_estimators=100,\n",
       "              n_jobs=1, nthread=None, objective='binary:logistic',\n",
       "              random_state=0, reg_alpha=0, reg_lambda=1, scale_pos_weight=1,\n",
       "              seed=None, silent=True, subsample=1)"
      ]
     },
     "execution_count": 163,
     "metadata": {},
     "output_type": "execute_result"
    }
   ],
   "source": [
    "from xgboost import XGBClassifier\n",
    "\n",
    "XGBClassifier()"
   ]
  },
  {
   "cell_type": "code",
   "execution_count": 173,
   "metadata": {},
   "outputs": [
    {
     "data": {
      "text/plain": [
       "XGBClassifier(base_score=0.5, booster='gbtree', colsample_bylevel=1,\n",
       "              colsample_bytree=1, gamma=0, learning_rate=0.1, max_delta_step=0,\n",
       "              max_depth=3, min_child_weight=1, missing=None, n_estimators=100,\n",
       "              n_jobs=1, nthread=None, objective='binary:logistic',\n",
       "              random_state=0, reg_alpha=0, reg_lambda=1, scale_pos_weight=1,\n",
       "              seed=None, silent=True, subsample=1)"
      ]
     },
     "execution_count": 173,
     "metadata": {},
     "output_type": "execute_result"
    }
   ],
   "source": [
    "model_XGB = XGBClassifier()\n",
    "model_XGB.fit(X_train_v, y_train_v)"
   ]
  },
  {
   "cell_type": "markdown",
   "metadata": {},
   "source": [
    "Train Score"
   ]
  },
  {
   "cell_type": "code",
   "execution_count": 174,
   "metadata": {},
   "outputs": [
    {
     "name": "stdout",
     "output_type": "stream",
     "text": [
      "ROC_AUC of model = 0.9627757509052987\n"
     ]
    }
   ],
   "source": [
    "y_train_pred_xgb = model_XGB.predict_proba(X_train_v)[:,1]\n",
    "\n",
    "print(\"ROC_AUC of model =\", roc_auc_score(y_train_v, y_train_pred_xgb))"
   ]
  },
  {
   "cell_type": "markdown",
   "metadata": {},
   "source": [
    "Validation Score"
   ]
  },
  {
   "cell_type": "code",
   "execution_count": 179,
   "metadata": {},
   "outputs": [
    {
     "name": "stdout",
     "output_type": "stream",
     "text": [
      "ROC_AUC of model = 0.8880094588955348\n"
     ]
    }
   ],
   "source": [
    "y_val_pred_xgb = model_XGB.predict(X_val)\n",
    "\n",
    "print(\"ROC_AUC of model =\", roc_auc_score(y_val, y_val_pred_xgb))"
   ]
  },
  {
   "cell_type": "code",
   "execution_count": 185,
   "metadata": {},
   "outputs": [
    {
     "data": {
      "image/png": "[encoded data removed]",
      "text/plain": [
       "<Figure size 864x1296 with 1 Axes>"
      ]
     },
     "metadata": {
      "needs_background": "light"
     },
     "output_type": "display_data"
    }
   ],
   "source": [
    "#LEARN HOW XGB CLASSIFIER WORKS. HOW DOES FEATURE IMPORTANCE WORK HERE\n",
    "\n",
    "#Using more estimators increasing the train speed therefore 100 seemed suitable. \n",
    "#Higher max depth overfits the model. \n",
    "#subsample is used as the regularization effect\n",
    "#High learning rates makes algorithm faster but does not yield accurate results thus keeping it to 0.1 is a good number\n",
    "import xgboost as xgb\n",
    "\n",
    "XGB = xgb.XGBClassifier(max_depth=7, n_estimators=100, colsample_bytree=0.8, \n",
    "                        subsample=0.8, nthread=10, learning_rate=0.1)\n",
    "\n",
    "XGB.fit(X_train,y_train)\n",
    "\n",
    "#Identifying the important features\n",
    "fig, ax = plt.subplots(figsize=(12,18))\n",
    "xgb.plot_importance(XGB, max_num_features=50, height=0.8, ax=ax)\n",
    "\n",
    "plt.show()"
   ]
  },
  {
   "cell_type": "markdown",
   "metadata": {},
   "source": [
    "This chart gives up a much better representation of the important features useful to us, more so than the correlation matrix. We can deduce that the total day minutes and total evening minutes were critically important variables.\n",
    "On the other hand, the total international charges and total night charges were of lesser importance. \n",
    "\n",
    "These are plotted against the F score in the x-axis because as it is a measure of the tests accuracy and shows a more realistic measure of a tests performance by using both precision and recall."
   ]
  },
  {
   "cell_type": "markdown",
   "metadata": {},
   "source": [
    "## XG Boost Hyperparameter Tuning"
   ]
  },
  {
   "cell_type": "code",
   "execution_count": 201,
   "metadata": {},
   "outputs": [
    {
     "data": {
      "text/plain": [
       "GridSearchCV(cv=StratifiedKFold(n_splits=3, random_state=110, shuffle=False),\n",
       "             error_score=nan,\n",
       "             estimator=DecisionTreeClassifier(ccp_alpha=0.0,\n",
       "                                              class_weight='balanced',\n",
       "                                              criterion='gini', max_depth=2,\n",
       "                                              max_features=None,\n",
       "                                              max_leaf_nodes=None,\n",
       "                                              min_impurity_decrease=0.0,\n",
       "                                              min_impurity_split=None,\n",
       "                                              min_samples_leaf=10,\n",
       "                                              min_samples_split=2,\n",
       "                                              min_weight_fraction_leaf=0.0,\n",
       "                                              presort='deprecated',\n",
       "                                              random_state=100,\n",
       "                                              splitter='best'),\n",
       "             iid='deprecated', n_jobs=None,\n",
       "             param_grid={'max_depth': range(1, 5),\n",
       "                         'min_samples_leaf': [5, 10, 15, 20]},\n",
       "             pre_dispatch='2*n_jobs', refit=True, return_train_score=False,\n",
       "             scoring='roc_auc', verbose=0)"
      ]
     },
     "execution_count": 201,
     "metadata": {},
     "output_type": "execute_result"
    }
   ],
   "source": [
    "optimalmodel_xgb = GridSearchCV(model, ParamGrid, cv=skf, scoring=\"roc_auc\")\n",
    "optimalmodel_xgb.fit(X_train,y_train)"
   ]
  },
  {
   "cell_type": "code",
   "execution_count": 203,
   "metadata": {},
   "outputs": [],
   "source": [
    "xgb_bestestimator = optimalmodel_xgb.best_estimator_"
   ]
  },
  {
   "cell_type": "markdown",
   "metadata": {},
   "source": [
    "Train"
   ]
  },
  {
   "cell_type": "code",
   "execution_count": 210,
   "metadata": {},
   "outputs": [],
   "source": [
    "optmodel_xgb_predictproba_train = xgb_bestestimator.predict_proba(X_train)"
   ]
  },
  {
   "cell_type": "code",
   "execution_count": 211,
   "metadata": {},
   "outputs": [
    {
     "data": {
      "text/plain": [
       "0.9084464975073849"
      ]
     },
     "execution_count": 211,
     "metadata": {},
     "output_type": "execute_result"
    }
   ],
   "source": [
    "roc_auc_score(y_train, optmodel_xgb_predictproba_train[:,1])"
   ]
  },
  {
   "cell_type": "markdown",
   "metadata": {},
   "source": [
    "Validation"
   ]
  },
  {
   "cell_type": "code",
   "execution_count": 204,
   "metadata": {},
   "outputs": [],
   "source": [
    "optmodel_xgb_predictproba = xgb_bestestimator.predict_proba(X_val)"
   ]
  },
  {
   "cell_type": "code",
   "execution_count": 209,
   "metadata": {},
   "outputs": [
    {
     "data": {
      "text/plain": [
       "0.6976491862567813"
      ]
     },
     "execution_count": 209,
     "metadata": {},
     "output_type": "execute_result"
    }
   ],
   "source": [
    "roc_auc_score(y_val, optmodel_xgb_predictproba[:,1])"
   ]
  },
  {
   "cell_type": "markdown",
   "metadata": {},
   "source": [
    "# Random Forest Classifier"
   ]
  },
  {
   "cell_type": "code",
   "execution_count": 213,
   "metadata": {},
   "outputs": [],
   "source": [
    "#Instantiate the RF classifier\n",
    "model_RF = RandomForestClassifier()"
   ]
  },
  {
   "cell_type": "code",
   "execution_count": 214,
   "metadata": {},
   "outputs": [
    {
     "data": {
      "text/plain": [
       "RandomForestClassifier(bootstrap=True, ccp_alpha=0.0, class_weight=None,\n",
       "                       criterion='gini', max_depth=None, max_features='auto',\n",
       "                       max_leaf_nodes=None, max_samples=None,\n",
       "                       min_impurity_decrease=0.0, min_impurity_split=None,\n",
       "                       min_samples_leaf=1, min_samples_split=2,\n",
       "                       min_weight_fraction_leaf=0.0, n_estimators=100,\n",
       "                       n_jobs=None, oob_score=False, random_state=None,\n",
       "                       verbose=0, warm_start=False)"
      ]
     },
     "execution_count": 214,
     "metadata": {},
     "output_type": "execute_result"
    }
   ],
   "source": [
    "model_RF.fit(X_train_v, y_train_v)"
   ]
  },
  {
   "cell_type": "markdown",
   "metadata": {},
   "source": [
    "Train"
   ]
  },
  {
   "cell_type": "code",
   "execution_count": 215,
   "metadata": {},
   "outputs": [
    {
     "name": "stdout",
     "output_type": "stream",
     "text": [
      "ROC_AUC of model = 1.0\n"
     ]
    }
   ],
   "source": [
    "y_train_pred = model_RF.predict_proba(X_train_v)[:,1]\n",
    "\n",
    "print(\"ROC_AUC of model =\", roc_auc_score(y_train_v, y_train_pred))"
   ]
  },
  {
   "cell_type": "markdown",
   "metadata": {},
   "source": [
    "Validation "
   ]
  },
  {
   "cell_type": "code",
   "execution_count": 216,
   "metadata": {},
   "outputs": [
    {
     "name": "stdout",
     "output_type": "stream",
     "text": [
      "ROC_AUC of model = 0.8838781471692865\n"
     ]
    }
   ],
   "source": [
    "y_val_pred = model_RF.predict(X_val)\n",
    "\n",
    "print(\"ROC_AUC of model =\", roc_auc_score(y_val, y_val_pred))"
   ]
  },
  {
   "cell_type": "markdown",
   "metadata": {},
   "source": [
    "## Random Forest Hyperparameter Tuning"
   ]
  },
  {
   "cell_type": "code",
   "execution_count": 217,
   "metadata": {},
   "outputs": [
    {
     "data": {
      "text/plain": [
       "GridSearchCV(cv=StratifiedKFold(n_splits=3, random_state=110, shuffle=False),\n",
       "             error_score=nan,\n",
       "             estimator=DecisionTreeClassifier(ccp_alpha=0.0,\n",
       "                                              class_weight='balanced',\n",
       "                                              criterion='gini', max_depth=2,\n",
       "                                              max_features=None,\n",
       "                                              max_leaf_nodes=None,\n",
       "                                              min_impurity_decrease=0.0,\n",
       "                                              min_impurity_split=None,\n",
       "                                              min_samples_leaf=10,\n",
       "                                              min_samples_split=2,\n",
       "                                              min_weight_fraction_leaf=0.0,\n",
       "                                              presort='deprecated',\n",
       "                                              random_state=100,\n",
       "                                              splitter='best'),\n",
       "             iid='deprecated', n_jobs=None,\n",
       "             param_grid={'max_depth': range(1, 5),\n",
       "                         'min_samples_leaf': [5, 10, 15, 20]},\n",
       "             pre_dispatch='2*n_jobs', refit=True, return_train_score=False,\n",
       "             scoring='roc_auc', verbose=0)"
      ]
     },
     "execution_count": 217,
     "metadata": {},
     "output_type": "execute_result"
    }
   ],
   "source": [
    "optimalmodel_RF = GridSearchCV(model, ParamGrid, cv=skf, scoring=\"roc_auc\")\n",
    "optimalmodel_RF.fit(X_train_v, y_train_v)"
   ]
  },
  {
   "cell_type": "code",
   "execution_count": 218,
   "metadata": {},
   "outputs": [],
   "source": [
    "RF_bestestimator = optimalmodel_RF.best_estimator_"
   ]
  },
  {
   "cell_type": "markdown",
   "metadata": {},
   "source": [
    "Train"
   ]
  },
  {
   "cell_type": "code",
   "execution_count": 219,
   "metadata": {},
   "outputs": [],
   "source": [
    "optmodel_RF_predictproba_train = RF_bestestimator.predict_proba(X_train)"
   ]
  },
  {
   "cell_type": "code",
   "execution_count": 220,
   "metadata": {},
   "outputs": [
    {
     "data": {
      "text/plain": [
       "0.4989871192141574"
      ]
     },
     "execution_count": 220,
     "metadata": {},
     "output_type": "execute_result"
    }
   ],
   "source": [
    "roc_auc_score(y_train, optmodel_RF_predictproba_train[:,1])"
   ]
  },
  {
   "cell_type": "markdown",
   "metadata": {},
   "source": [
    "Validation"
   ]
  },
  {
   "cell_type": "code",
   "execution_count": 221,
   "metadata": {},
   "outputs": [],
   "source": [
    "optmodel_RF_predictproba_val = RF_bestestimator.predict_proba(X_val)"
   ]
  },
  {
   "cell_type": "code",
   "execution_count": 222,
   "metadata": {},
   "outputs": [
    {
     "data": {
      "text/plain": [
       "0.8681179579913757"
      ]
     },
     "execution_count": 222,
     "metadata": {},
     "output_type": "execute_result"
    }
   ],
   "source": [
    "roc_auc_score(y_val, optmodel_RF_predictproba_val[:,1])"
   ]
  },
  {
   "cell_type": "markdown",
   "metadata": {},
   "source": [
    "# Evaluation"
   ]
  },
  {
   "cell_type": "code",
   "execution_count": 224,
   "metadata": {},
   "outputs": [],
   "source": [
    "from sklearn.metrics import classification_report"
   ]
  },
  {
   "cell_type": "code",
   "execution_count": null,
   "metadata": {},
   "outputs": [],
   "source": []
  }
 ],
 "metadata": {
  "kernelspec": {
   "display_name": "Python [conda env:learn-env] *",
   "language": "python",
   "name": "conda-env-learn-env-py"
  },
  "language_info": {
   "codemirror_mode": {
    "name": "ipython",
    "version": 3
   },
   "file_extension": ".py",
   "mimetype": "text/x-python",
   "name": "python",
   "nbconvert_exporter": "python",
   "pygments_lexer": "ipython3",
   "version": "3.6.6"
  }
 },
 "nbformat": 4,
 "nbformat_minor": 2
}
